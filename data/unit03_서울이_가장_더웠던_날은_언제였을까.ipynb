{
  "nbformat": 4,
  "nbformat_minor": 0,
  "metadata": {
    "colab": {
      "name": "unit03-서울이 가장 더웠던 날은 언제였을까.ipynb",
      "provenance": [],
      "collapsed_sections": []
    },
    "kernelspec": {
      "name": "python3",
      "display_name": "Python 3"
    },
    "language_info": {
      "name": "python"
    }
  },
  "cells": [
    {
      "cell_type": "markdown",
      "metadata": {
        "id": "nHICh0gAh1On"
      },
      "source": [
        "step 1) 데이터 불러서 한 행씩 출력하기"
      ]
    },
    {
      "cell_type": "code",
      "metadata": {
        "id": "MX-RFXgNhr_Z"
      },
      "source": [
        "import csv\n",
        "\n",
        "f = open('/content/seoul.csv', 'r', encoding ='cp949')\n",
        "data = csv.reader(f)\n",
        "header = next(data) # 헤더 추출\n",
        "\n",
        "for row in data:\n",
        "  print(row)\n",
        "  #최고기온 데이터만 추출 -> 오류 발생 -> 결측지 때문에 -> 어떻게 처리할까?\n",
        "  row[-1] = float(row[-1]) # float(row[4]) -> 제일마지막 컬럼 -> -1로 인덱스 처리\n",
        "\n",
        "f.close()"
      ],
      "execution_count": null,
      "outputs": []
    },
    {
      "cell_type": "markdown",
      "metadata": {
        "id": "O36c8B3DkqQB"
      },
      "source": [
        "ster 2) 데이터 중 최고 기온을 시술하여 변환하여 한행씩 출력하기"
      ]
    },
    {
      "cell_type": "code",
      "metadata": {
        "id": "uF8PvtqBjrHI"
      },
      "source": [
        "import csv\n",
        "\n",
        "max_temp = -999 # 최고 기온 값을 저장한 변수 -> 명확한 결과를 위해 극적인 값으로 셋팅\n",
        "max_date ='' # 최고 기온이 가장 높았던 날짜를 저장하는 변수\n",
        "\n",
        "f = open('/content/seoul.csv', 'r', encoding ='cp949')\n",
        "data = csv.reader(f)\n",
        "header = next(data) # 헤더 추출\n",
        "\n",
        "for row in data:\n",
        "\n",
        "#최고 기온 데이터가 '' (결측치) 확인\n",
        "  if row[-1] == '':\n",
        "    row[-1] = -999 #-999를 넣어서 빈 문자열('')이 있던 자리라고 표시\n",
        "\n",
        "  print(row[0],row[-1])\n",
        "  row[-1] = float(row[-1]) # 기온 데이터가 실수형으로 변환\n",
        "  print(row[0],row[-1]) # 날짜 데이터와 같이 출력 \n",
        "\n",
        "f.close()"
      ],
      "execution_count": null,
      "outputs": []
    },
    {
      "cell_type": "markdown",
      "metadata": {
        "id": "C7oV3akPrf0N"
      },
      "source": [
        "step3) 최고 기온과최고기온이었던 날씨찾기"
      ]
    },
    {
      "cell_type": "code",
      "metadata": {
        "colab": {
          "base_uri": "https://localhost:8080/"
        },
        "id": "EgZHOtWom0W8",
        "outputId": "ae9596bc-63ae-491d-90c5-e081d81866c3"
      },
      "source": [
        "import csv\n",
        "\n",
        "max_temp = -999 # 최고 기온 값을 저장한 변수 -> 명확한 결과를 위해 극적인 값으로 셋팅\n",
        "max_date ='' # 최고 기온이 가장 높았던 날짜를 저장하는 변수\n",
        "\n",
        "f = open('/content/seoul.csv', 'r', encoding ='cp949')\n",
        "data = csv.reader(f)\n",
        "header = next(data) # 헤더 추출\n",
        "\n",
        "for row in data:\n",
        "\n",
        "#최고 기온 데이터가 '' (결측치) 확인\n",
        "  if row[-1] == '':\n",
        "    row[-1] = -999 #-999를 넣어서 빈 문자열('')이 있던 자리라고 표시\n",
        "\n",
        "  \n",
        "  row[-1] = float(row[-1]) # 기온 데이터가 실수형으로 변환\n",
        "\n",
        "  # 최고 기온 정보를 저장\n",
        "\n",
        "  if max_temp < row[-1] :\n",
        "    max_date = row[0]\n",
        "    max_temp = row[-1]\n",
        "\n",
        "f.close()\n",
        "\n",
        "print('기상 관측 이래 서울의 최고 기온이 가장 높았던 날은', max_date+'로', max_temp, '도 였습니다.')"
      ],
      "execution_count": null,
      "outputs": [
        {
          "output_type": "stream",
          "text": [
            "기상 관측 이래 서울의 최고 기온이 가장 높았던 날은 2018-08-01로 39.6 도 였습니다.\n"
          ],
          "name": "stdout"
        }
      ]
    },
    {
      "cell_type": "markdown",
      "metadata": {
        "id": "b2XNeDCws093"
      },
      "source": [
        "step 4) 최저 기온과 최저 기온이었던 날짜 찾기(스스로해보기)"
      ]
    },
    {
      "cell_type": "code",
      "metadata": {
        "colab": {
          "base_uri": "https://localhost:8080/"
        },
        "id": "yCN02Knosl8Q",
        "outputId": "8f1089ba-e249-4c10-b344-2ba9be0ee891"
      },
      "source": [
        "import csv\n",
        "\n",
        "min_temp = 999 # 최저 기온 값을 저장한 변수 -> 명확한 결과를 위해 극적인 값으로 셋팅\n",
        "min_date ='' # 최저 기온이 가장 높았던 날짜를 저장하는 변수\n",
        "\n",
        "f = open('/content/seoul.csv', 'r', encoding ='cp949')\n",
        "data = csv.reader(f)\n",
        "header = next(data) # 헤더 추출\n",
        "\n",
        "for row in data:\n",
        "\n",
        "#최저 기온 데이터가 '' (결측치) 확인\n",
        "  if row[3] == '':\n",
        "    row[3] = 999  # 999를 넣어서 빈 문자열('')이 있던 자리라고 표시\n",
        "\n",
        "  \n",
        "  row[3] = float(row[3]) # 기온 데이터가 실수형으로 변환\n",
        "\n",
        "  # 최저 기온 정보를 저장\n",
        "\n",
        "  if min_temp > row[3] :\n",
        "    min_date = row[0]\n",
        "    min_temp = row[3]\n",
        "\n",
        "f.close()\n",
        "\n",
        "print('기상 관측 이래 서울의 최저 기온이 가장 낮았던 날은', min_date+'로', min_temp, '도 였습니다.')"
      ],
      "execution_count": null,
      "outputs": [
        {
          "output_type": "stream",
          "text": [
            "기상 관측 이래 서울의 최저 기온이 가장 낮았던 날은 1927-12-31로 -23.1 도 였습니다.\n"
          ],
          "name": "stdout"
        }
      ]
    },
    {
      "cell_type": "markdown",
      "metadata": {
        "id": "WOYmbPKGvs7L"
      },
      "source": [
        "평균기온이 낮았을때"
      ]
    },
    {
      "cell_type": "code",
      "metadata": {
        "colab": {
          "base_uri": "https://localhost:8080/"
        },
        "id": "a6Poi9jws-N_",
        "outputId": "927d5cb1-b190-45d5-cf7a-abd0557e4ec9"
      },
      "source": [
        "import csv\n",
        "\n",
        "min_temp = 999 # 최고 기온 값을 저장한 변수 -> 명확한 결과를 위해 극적인 값으로 셋팅\n",
        "min_date ='' # 최고 기온이 가장 높았던 날짜를 저장하는 변수\n",
        "\n",
        "f = open('/content/seoul.csv', 'r', encoding ='cp949')\n",
        "data = csv.reader(f)\n",
        "header = next(data) # 헤더 추출\n",
        "\n",
        "for row in data:\n",
        "\n",
        "#최고 기온 데이터가 '' (결측치) 확인\n",
        "  if row[2] == '':\n",
        "    row[2] = 999 #-999를 넣어서 빈 문자열('')이 있던 자리라고 표시\n",
        "\n",
        "  \n",
        "  row[2] = float(row[2]) # 기온 데이터가 실수형으로 변환\n",
        "\n",
        "  # 최고 기온 정보를 저장\n",
        "\n",
        "  if min_temp > row[2] :\n",
        "    min_date = row[0]\n",
        "    min_temp = row[2]\n",
        "\n",
        "f.close()\n",
        "\n",
        "print('기상 관측 이래 서울의 평균 기온이 가장 낮았던 날은', min_date+'로', min_temp, '도 였습니다.')"
      ],
      "execution_count": null,
      "outputs": [
        {
          "output_type": "stream",
          "text": [
            "기상 관측 이래 서울의 평균 기온이 가장 낮았던 날은 1915-01-13로 -19.2 도 였습니다.\n"
          ],
          "name": "stdout"
        }
      ]
    },
    {
      "cell_type": "markdown",
      "metadata": {
        "id": "T4MvwXhqvwqJ"
      },
      "source": [
        "평균 기온이 가장 높았을때"
      ]
    },
    {
      "cell_type": "code",
      "metadata": {
        "colab": {
          "base_uri": "https://localhost:8080/"
        },
        "id": "lHrLdVYjvoXv",
        "outputId": "c707a631-5380-4d06-dc7b-0129c88f0fba"
      },
      "source": [
        "import csv\n",
        "\n",
        "max_temp = -999 # 최고 기온 값을 저장한 변수 -> 명확한 결과를 위해 극적인 값으로 셋팅\n",
        "max_date ='' # 최고 기온이 가장 높았던 날짜를 저장하는 변수\n",
        "\n",
        "f = open('/content/seoul.csv', 'r', encoding ='cp949')\n",
        "data = csv.reader(f)\n",
        "header = next(data) # 헤더 추출\n",
        "\n",
        "for row in data:\n",
        "\n",
        "#최고 기온 데이터가 '' (결측치) 확인\n",
        "  if row[2] == '':\n",
        "    row[2] = -999 #-999를 넣어서 빈 문자열('')이 있던 자리라고 표시\n",
        "\n",
        "  \n",
        "  row[2] = float(row[2]) # 기온 데이터가 실수형으로 변환\n",
        "\n",
        "  # 최고 기온 정보를 저장\n",
        "\n",
        "  if max_temp < row[2] :\n",
        "    max_date = row[0]\n",
        "    max_temp = row[2]\n",
        "\n",
        "f.close()\n",
        "\n",
        "print('기상 관측 이래 서울의 평균 기온이 가장 높았던 날은', max_date+'로', max_temp, '도 였습니다.')"
      ],
      "execution_count": null,
      "outputs": [
        {
          "output_type": "stream",
          "text": [
            "기상 관측 이래 서울의 평균 기온이 가장 높았던 날은 2018-08-02로 33.7 도 였습니다.\n"
          ],
          "name": "stdout"
        }
      ]
    },
    {
      "cell_type": "markdown",
      "metadata": {
        "id": "xip5pnL3yzNo"
      },
      "source": [
        "최저 기온이 높았을때"
      ]
    },
    {
      "cell_type": "code",
      "metadata": {
        "colab": {
          "base_uri": "https://localhost:8080/"
        },
        "id": "wUp7-3jYxmOY",
        "outputId": "ff9a9c2c-76f6-4a51-9094-4bc8b960e456"
      },
      "source": [
        "import csv\n",
        "\n",
        "max_temp = -999 # 최고 기온 값을 저장한 변수 -> 명확한 결과를 위해 극적인 값으로 셋팅\n",
        "max_date ='' # 최고 기온이 가장 높았던 날짜를 저장하는 변수\n",
        "\n",
        "f = open('/content/seoul.csv', 'r', encoding ='cp949')\n",
        "data = csv.reader(f)\n",
        "header = next(data) # 헤더 추출\n",
        "\n",
        "for row in data:\n",
        "\n",
        "#최고 기온 데이터가 '' (결측치) 확인\n",
        "  if row[3] == '':\n",
        "    row[3] = -999 #-999를 넣어서 빈 문자열('')이 있던 자리라고 표시\n",
        "\n",
        "  \n",
        "  row[3] = float(row[3]) # 기온 데이터가 실수형으로 변환\n",
        "\n",
        "  # 최고 기온 정보를 저장\n",
        "\n",
        "  if max_temp < row[3] :\n",
        "    max_date = row[0]\n",
        "    max_temp = row[3]\n",
        "\n",
        "f.close()\n",
        "\n",
        "print('기상 관측 이래 서울의 최저 기온이 가장 높았던 날은', max_date+'로', max_temp, '도 였습니다.')"
      ],
      "execution_count": null,
      "outputs": [
        {
          "output_type": "stream",
          "text": [
            "기상 관측 이래 서울의 최저 기온이 가장 높았던 날은 2018-08-02로 30.3 도 였습니다.\n"
          ],
          "name": "stdout"
        }
      ]
    },
    {
      "cell_type": "code",
      "metadata": {
        "id": "cCBCoWnvzC5x"
      },
      "source": [
        ""
      ],
      "execution_count": null,
      "outputs": []
    }
  ]
}