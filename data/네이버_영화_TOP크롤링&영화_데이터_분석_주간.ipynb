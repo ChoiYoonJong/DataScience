{
  "nbformat": 4,
  "nbformat_minor": 0,
  "metadata": {
    "colab": {
      "name": "네이버 영화 TOP크롤링&영화 데이터 분석 주간",
      "provenance": [],
      "collapsed_sections": []
    },
    "kernelspec": {
      "name": "python3",
      "display_name": "Python 3"
    },
    "language_info": {
      "name": "python"
    }
  },
  "cells": [
    {
      "cell_type": "markdown",
      "metadata": {
        "id": "uq1Fn4rnnmQ7"
      },
      "source": [
        "네이버 영화 TOP100 데이터 크롤링하기"
      ]
    },
    {
      "cell_type": "markdown",
      "metadata": {
        "id": "SK3OTa8cnpuW"
      },
      "source": [
        "라이브러리 설치"
      ]
    },
    {
      "cell_type": "code",
      "metadata": {
        "colab": {
          "base_uri": "https://localhost:8080/"
        },
        "id": "KJdd-hmXiYbw",
        "outputId": "298675a6-abc6-4986-e0d4-689037b66a29"
      },
      "source": [
        "#링크 수집을 위한 라이브러리 설치\n",
        "!pip install selenium"
      ],
      "execution_count": null,
      "outputs": [
        {
          "output_type": "stream",
          "text": [
            "Collecting selenium\n",
            "\u001b[?25l  Downloading https://files.pythonhosted.org/packages/80/d6/4294f0b4bce4de0abf13e17190289f9d0613b0a44e5dd6a7f5ca98459853/selenium-3.141.0-py2.py3-none-any.whl (904kB)\n",
            "\u001b[K     |████████████████████████████████| 911kB 7.0MB/s \n",
            "\u001b[?25hRequirement already satisfied: urllib3 in /usr/local/lib/python3.7/dist-packages (from selenium) (1.24.3)\n",
            "Installing collected packages: selenium\n",
            "Successfully installed selenium-3.141.0\n"
          ],
          "name": "stdout"
        }
      ]
    },
    {
      "cell_type": "markdown",
      "metadata": {
        "id": "WVI1dt51nyHi"
      },
      "source": [
        "라이브러리 임포트"
      ]
    },
    {
      "cell_type": "code",
      "metadata": {
        "id": "Ff3khC1XnwoS"
      },
      "source": [
        "from bs4 import BeautifulSoup\n",
        "import requests\n",
        "from selenium import webdriver as wd\n",
        "from selenium.webdriver.common.keys import Keys\n",
        "import time\n",
        "import re\n",
        "import pandas as pd"
      ],
      "execution_count": null,
      "outputs": []
    },
    {
      "cell_type": "code",
      "metadata": {
        "colab": {
          "base_uri": "https://localhost:8080/"
        },
        "id": "eZU-_kCuoHcR",
        "outputId": "92153a12-5d0a-4479-c89e-4f0e29af6e8a"
      },
      "source": [
        "# install chromium, its driver, and selenium\n",
        "!apt-get update\n",
        "!apt install chromium-chromedriver\n",
        "!cp /usr/lib/chromium-browser/chromedriver /usr/bin\n",
        "!pip install selenium\n",
        "# set options to be headless, ..\n",
        "from selenium import webdriver\n",
        "options = webdriver.ChromeOptions()\n",
        "options.add_argument('--headless')\n",
        "options.add_argument('--no-sandbox')\n",
        "options.add_argument('--disable-dev-shm-usage')\n",
        "\n",
        "driver = webdriver.Chrome('chromedriver',options=options)"
      ],
      "execution_count": null,
      "outputs": [
        {
          "output_type": "stream",
          "text": [
            "\r0% [Working]\r            \rHit:1 https://cloud.r-project.org/bin/linux/ubuntu bionic-cran40/ InRelease\n",
            "Ign:2 https://developer.download.nvidia.com/compute/cuda/repos/ubuntu1804/x86_64  InRelease\n",
            "Get:3 http://security.ubuntu.com/ubuntu bionic-security InRelease [88.7 kB]\n",
            "Ign:4 https://developer.download.nvidia.com/compute/machine-learning/repos/ubuntu1804/x86_64  InRelease\n",
            "Hit:5 http://ppa.launchpad.net/c2d4u.team/c2d4u4.0+/ubuntu bionic InRelease\n",
            "Get:6 https://developer.download.nvidia.com/compute/cuda/repos/ubuntu1804/x86_64  Release [697 B]\n",
            "Hit:7 https://developer.download.nvidia.com/compute/machine-learning/repos/ubuntu1804/x86_64  Release\n",
            "Get:8 https://developer.download.nvidia.com/compute/cuda/repos/ubuntu1804/x86_64  Release.gpg [836 B]\n",
            "Hit:9 http://archive.ubuntu.com/ubuntu bionic InRelease\n",
            "Hit:10 http://ppa.launchpad.net/cran/libgit2/ubuntu bionic InRelease\n",
            "Get:11 http://archive.ubuntu.com/ubuntu bionic-updates InRelease [88.7 kB]\n",
            "Get:12 http://ppa.launchpad.net/deadsnakes/ppa/ubuntu bionic InRelease [15.9 kB]\n",
            "Get:13 http://archive.ubuntu.com/ubuntu bionic-backports InRelease [74.6 kB]\n",
            "Get:15 http://ppa.launchpad.net/graphics-drivers/ppa/ubuntu bionic InRelease [21.3 kB]\n",
            "Ign:16 https://developer.download.nvidia.com/compute/cuda/repos/ubuntu1804/x86_64  Packages\n",
            "Get:16 https://developer.download.nvidia.com/compute/cuda/repos/ubuntu1804/x86_64  Packages [599 kB]\n",
            "Get:17 http://security.ubuntu.com/ubuntu bionic-security/restricted amd64 Packages [473 kB]\n",
            "Get:18 http://security.ubuntu.com/ubuntu bionic-security/main amd64 Packages [2,219 kB]\n",
            "Get:19 http://security.ubuntu.com/ubuntu bionic-security/universe amd64 Packages [1,418 kB]\n",
            "Get:20 http://ppa.launchpad.net/deadsnakes/ppa/ubuntu bionic/main amd64 Packages [40.9 kB]\n",
            "Get:21 http://archive.ubuntu.com/ubuntu bionic-updates/universe amd64 Packages [2,188 kB]\n",
            "Get:22 http://ppa.launchpad.net/graphics-drivers/ppa/ubuntu bionic/main amd64 Packages [41.5 kB]\n",
            "Get:23 http://archive.ubuntu.com/ubuntu bionic-updates/restricted amd64 Packages [505 kB]\n",
            "Get:24 http://archive.ubuntu.com/ubuntu bionic-updates/main amd64 Packages [2,652 kB]\n",
            "Fetched 10.4 MB in 4s (2,975 kB/s)\n",
            "Reading package lists... Done\n",
            "Reading package lists... Done\n",
            "Building dependency tree       \n",
            "Reading state information... Done\n",
            "The following additional packages will be installed:\n",
            "  chromium-browser chromium-browser-l10n chromium-codecs-ffmpeg-extra\n",
            "Suggested packages:\n",
            "  webaccounts-chromium-extension unity-chromium-extension\n",
            "The following NEW packages will be installed:\n",
            "  chromium-browser chromium-browser-l10n chromium-chromedriver\n",
            "  chromium-codecs-ffmpeg-extra\n",
            "0 upgraded, 4 newly installed, 0 to remove and 70 not upgraded.\n",
            "Need to get 86.0 MB of archives.\n",
            "After this operation, 298 MB of additional disk space will be used.\n",
            "Get:1 http://archive.ubuntu.com/ubuntu bionic-updates/universe amd64 chromium-codecs-ffmpeg-extra amd64 91.0.4472.101-0ubuntu0.18.04.1 [1,124 kB]\n",
            "Get:2 http://archive.ubuntu.com/ubuntu bionic-updates/universe amd64 chromium-browser amd64 91.0.4472.101-0ubuntu0.18.04.1 [76.1 MB]\n",
            "Get:3 http://archive.ubuntu.com/ubuntu bionic-updates/universe amd64 chromium-browser-l10n all 91.0.4472.101-0ubuntu0.18.04.1 [3,937 kB]\n",
            "Get:4 http://archive.ubuntu.com/ubuntu bionic-updates/universe amd64 chromium-chromedriver amd64 91.0.4472.101-0ubuntu0.18.04.1 [4,837 kB]\n",
            "Fetched 86.0 MB in 5s (17.1 MB/s)\n",
            "Selecting previously unselected package chromium-codecs-ffmpeg-extra.\n",
            "(Reading database ... 160772 files and directories currently installed.)\n",
            "Preparing to unpack .../chromium-codecs-ffmpeg-extra_91.0.4472.101-0ubuntu0.18.04.1_amd64.deb ...\n",
            "Unpacking chromium-codecs-ffmpeg-extra (91.0.4472.101-0ubuntu0.18.04.1) ...\n",
            "Selecting previously unselected package chromium-browser.\n",
            "Preparing to unpack .../chromium-browser_91.0.4472.101-0ubuntu0.18.04.1_amd64.deb ...\n",
            "Unpacking chromium-browser (91.0.4472.101-0ubuntu0.18.04.1) ...\n",
            "Selecting previously unselected package chromium-browser-l10n.\n",
            "Preparing to unpack .../chromium-browser-l10n_91.0.4472.101-0ubuntu0.18.04.1_all.deb ...\n",
            "Unpacking chromium-browser-l10n (91.0.4472.101-0ubuntu0.18.04.1) ...\n",
            "Selecting previously unselected package chromium-chromedriver.\n",
            "Preparing to unpack .../chromium-chromedriver_91.0.4472.101-0ubuntu0.18.04.1_amd64.deb ...\n",
            "Unpacking chromium-chromedriver (91.0.4472.101-0ubuntu0.18.04.1) ...\n",
            "Setting up chromium-codecs-ffmpeg-extra (91.0.4472.101-0ubuntu0.18.04.1) ...\n",
            "Setting up chromium-browser (91.0.4472.101-0ubuntu0.18.04.1) ...\n",
            "update-alternatives: using /usr/bin/chromium-browser to provide /usr/bin/x-www-browser (x-www-browser) in auto mode\n",
            "update-alternatives: using /usr/bin/chromium-browser to provide /usr/bin/gnome-www-browser (gnome-www-browser) in auto mode\n",
            "Setting up chromium-chromedriver (91.0.4472.101-0ubuntu0.18.04.1) ...\n",
            "Setting up chromium-browser-l10n (91.0.4472.101-0ubuntu0.18.04.1) ...\n",
            "Processing triggers for man-db (2.8.3-2ubuntu0.1) ...\n",
            "Processing triggers for hicolor-icon-theme (0.17-2) ...\n",
            "Processing triggers for mime-support (3.60ubuntu1) ...\n",
            "Processing triggers for libc-bin (2.27-3ubuntu1.2) ...\n",
            "/sbin/ldconfig.real: /usr/local/lib/python3.7/dist-packages/ideep4py/lib/libmkldnn.so.0 is not a symbolic link\n",
            "\n",
            "cp: '/usr/lib/chromium-browser/chromedriver' and '/usr/bin/chromedriver' are the same file\n",
            "Requirement already satisfied: selenium in /usr/local/lib/python3.7/dist-packages (3.141.0)\n",
            "Requirement already satisfied: urllib3 in /usr/local/lib/python3.7/dist-packages (from selenium) (1.24.3)\n"
          ],
          "name": "stdout"
        }
      ]
    },
    {
      "cell_type": "markdown",
      "metadata": {
        "id": "GmXXetvTsO76"
      },
      "source": [
        "분석할 데이터 모으기(크롤링)"
      ]
    },
    {
      "cell_type": "markdown",
      "metadata": {
        "id": "bP8KsyyqshIM"
      },
      "source": [
        "네이버 영화 TOP 100 페이지 별 링크 수집"
      ]
    },
    {
      "cell_type": "code",
      "metadata": {
        "id": "BCje5duNopA-"
      },
      "source": [
        "def getPageLinksWantRange(startPageNo, lastPageNo) :\n",
        "  links = [] # 100개의 영화링크를 수집할 리스트 변수 선언\n",
        "  \n",
        "  for pageNo in range(startPageNo-1, lastPageNo) :\n",
        "    # 실시간 TOP 100 영화 링크 수집\n",
        "    url = 'https://serieson.naver.com/movie/top100List.nhn?rankingTypeCode=PC_W&page=' + str(pageNo+1)\n",
        "\n",
        "    req = requests.get(url) # 페이지 접속\n",
        "    soup = BeautifulSoup(req.text, 'lxml')\n",
        "    # html 파싱(원하는 위치에 있는 값을 찾아줌)을 위한 객체 생성, 불러올 데이터 정보가 lxml형식이다\n",
        "    movielinks = soup.select('div.lst_thum_wrap ul li a[href]')\n",
        "    # 해당페이지의 페이지소스 중 378line 확인\n",
        "    # <div class=\"lst_thum_wrap\"> -> <ul> -> <li> -> <a href =\"\">\n",
        "    # div 일종의 박스, 여기 안에 무슨 정보를 넣을 거다\n",
        "    # ul(반복되는 정보) 안에 li가 들어있다(주로 그렇기 때문에 세트로 생각하면 좋다)\n",
        "\n",
        "    # movielinks의 링크는 완전한 형태의 링크가 아니기 때문에 부족한 앞부분을 채워 완전한 링크를 만들어줘야함\n",
        "\n",
        "    for movielink in movielinks :\n",
        "      link = str(movielink.get('href'))\n",
        "\n",
        "      links.append(\"https://series.naver.com\" + link) # 접속가능한 전체링크 형태로 변환하여 links 리스트에 넣어줌\n",
        "      \n",
        "  return links"
      ],
      "execution_count": null,
      "outputs": []
    },
    {
      "cell_type": "markdown",
      "metadata": {
        "id": "7WUXixPrycvB"
      },
      "source": [
        "네이버 영화 제목,평점,장르,줄거리 크롤링"
      ]
    },
    {
      "cell_type": "code",
      "metadata": {
        "id": "diqwJ-_ktCJi"
      },
      "source": [
        "def getMovieDataFromNaverSeries(links):\n",
        "  title_infos = [] # 제목\n",
        "  content_infos = [] # 줄거리\n",
        "  genre_infos = [] # 장르\n",
        "  score_infos = [] # 평점\n",
        "  date_infos = [] # 개봉일\n",
        "\n",
        "  url2 = \"https://www.naver.com\"\n",
        "\n",
        "  driver = webdriver.Chrome('chromedriver', options=options)\n",
        "  driver.get(url2)\n",
        "  time.sleep(3.0) # 3초 sleep\n",
        "\n",
        "  driver.find_element_by_css_selector('body').send_keys(Keys.CONTROL + 't')\n",
        "\n",
        "  for link in links:\n",
        "    print(link + '수집 중.........')\n",
        "    driver.switch_to_window(driver.window_handles[-1]) \n",
        "    time.sleep(0.1)\n",
        "    driver.get(link)\n",
        "    time.sleep(0.1)\n",
        "    driver.switch_to_window(driver.window_handles[0]) # 새창 활성화\n",
        "    time.sleep(3.0)\n",
        "    \n",
        "    html_source = driver.page_source # req.text 같은 동작\n",
        "    html_soup = BeautifulSoup(html_source, 'lxml')\n",
        "\n",
        "    # 청소년관람불가 영화 크롤링 할 경우 -> 인증 -> 수집 제외\n",
        "    flag = html_soup.text[0:10]\n",
        "\n",
        "    newflag =''.join(flag)\n",
        "    newflag = newflag.replace('\\n','')\n",
        "\n",
        "    if newflag =='네이버':\n",
        "      time.sleep(1.0)\n",
        "\n",
        "      #평점 수집\n",
        "      score = driver.find_element_by_css_selector('div.score_area > em')\n",
        "      score = float(score.text)\n",
        "      score = int(score) # 정수형으로 변경\n",
        "      score_infos.append(score)\n",
        "      print(score)\n",
        "\n",
        "      # 장르 수집\n",
        "      genre = driver.find_element_by_css_selector('li.info_lst > ul > li:nth-child(4)').get_attribute('textContent')\n",
        "      genre = genre.replace('장르','')\n",
        "      genre = genre.replace('\\n','')\n",
        "      genre = genre.replace('\\t','')\n",
        "      genre_infos.append(genre)\n",
        "\n",
        "      # 제목, 줄거리\n",
        "      \n",
        "      try:\n",
        "        movieInfoUrl = driver.find_element_by_css_selector('li.info_lst > ul > li:nth-child(7) > a').get_attribute('href')\n",
        "      except:\n",
        "        movieInfoUrl = driver.find_element_by_css_selector('li.info_lst > ul > li:nth-child(6) > a').get_attribute('href')\n",
        "\n",
        "      #영화 상세보기 페이지 이동\n",
        "      movie_req = requests.get(movieInfoUrl)\n",
        "\n",
        "      # 제목 수집\n",
        "      movie_soup = BeautifulSoup(movie_req.text, 'lxml')\n",
        "      title = movie_soup.head.find(\"meta\", {\"property\":\"og:title\"}).get('content')\n",
        "      title_infos.append(title)\n",
        "\n",
        "      #줄거리 수집\n",
        "      contents_texts = movie_soup.select('div.story_area > p.con_tx')\n",
        "\n",
        "      if len(contents_texts) == 0:\n",
        "        content_infos.append(\"줄거리 오류\")\n",
        "\n",
        "      else:\n",
        "        for contents in contents_texts :\n",
        "          # 줄거리 데이터 클랜징 작업\n",
        "          temp = contents.text\n",
        "          temp = temp.replace(\"\\r\",'')  # 줄바꿈 제거\n",
        "          temp = temp.replace(\"\\xa0\",'') #공백 제거\n",
        "          content_infos.append(temp)\n",
        "    \n",
        "    elif newflag =='':\n",
        "      print('청불 영화로 데이터 수집하지 않습니다.')\n",
        "  \n",
        "  print('수집 완료 합니다.....')\n",
        "  print(len(score_infos), len(genre_infos), len(content_infos))\n",
        "  driver.close()\n",
        "\n",
        "  movie_dic = {\"제목\": title_infos, \"평점\":score_infos, \"장르\":genre_infos, \"줄거리\":content_infos}\n",
        "\n",
        "  #딕셔너리 -> DataFrame\n",
        "  movie_df = pd.DataFrame(movie_dic)\n",
        "\n",
        "  #수집된 정보 중에 중복 데이터 삭제\n",
        "  movie_df2 = movie_df.drop_duplicates(\"줄거리\", keep='first') #줄거리 비교해서 중복된 영화를 삭제(첫번째 수집 영화만 남김)\n",
        "\n",
        "  return movie_df2\n"
      ],
      "execution_count": null,
      "outputs": []
    },
    {
      "cell_type": "markdown",
      "metadata": {
        "id": "V5MtPf4IKmZU"
      },
      "source": [
        "CSV 파일로 저장"
      ]
    },
    {
      "cell_type": "code",
      "metadata": {
        "id": "7hvHFJV64JoV"
      },
      "source": [
        "def dftoCsv(movie_df, num):\n",
        "  try:\n",
        "    movie_df.to_csv(('movie_my_data_' + str(num) + '.csv' ),\n",
        "                    sep=',', na_rep='NaN', encoding='euc-kr')\n",
        "    \n",
        "  except:\n",
        "    print('Error')  "
      ],
      "execution_count": null,
      "outputs": []
    },
    {
      "cell_type": "markdown",
      "metadata": {
        "id": "jfFictVpLbpn"
      },
      "source": [
        "크롤링 실행"
      ]
    },
    {
      "cell_type": "code",
      "metadata": {
        "colab": {
          "base_uri": "https://localhost:8080/"
        },
        "id": "_kHcI1mxLaac",
        "outputId": "fd920581-68f9-4554-896a-a25a81a13f05"
      },
      "source": [
        "#1) 크롤링 할 링크 수집\n",
        "links = getPageLinksWantRange(1,5)\n",
        "\n",
        "#2) 영화 상세 정보 수집\n",
        "movie_df2 = getMovieDataFromNaverSeries(links)\n",
        "\n",
        "#3) csv 파일 저장\n",
        "dftoCsv(movie_df2, len(movie_df2))"
      ],
      "execution_count": null,
      "outputs": [
        {
          "output_type": "stream",
          "text": [
            "https://series.naver.com/movie/detail.nhn?productNo=6291892수집 중.........\n"
          ],
          "name": "stdout"
        },
        {
          "output_type": "stream",
          "text": [
            "/usr/local/lib/python3.7/dist-packages/ipykernel_launcher.py:18: DeprecationWarning: use driver.switch_to.window instead\n",
            "/usr/local/lib/python3.7/dist-packages/ipykernel_launcher.py:22: DeprecationWarning: use driver.switch_to.window instead\n"
          ],
          "name": "stderr"
        },
        {
          "output_type": "stream",
          "text": [
            "9\n",
            "https://series.naver.com/movie/detail.nhn?productNo=3400212수집 중.........\n",
            "7\n",
            "https://series.naver.com/movie/detail.nhn?productNo=2822635수집 중.........\n",
            "청불 영화로 데이터 수집하지 않습니다.\n",
            "https://series.naver.com/movie/detail.nhn?productNo=3024534수집 중.........\n",
            "8\n",
            "https://series.naver.com/movie/detail.nhn?productNo=6283368수집 중.........\n",
            "6\n",
            "https://series.naver.com/movie/detail.nhn?productNo=6023769수집 중.........\n",
            "9\n",
            "https://series.naver.com/movie/detail.nhn?productNo=3400211수집 중.........\n",
            "7\n",
            "https://series.naver.com/movie/detail.nhn?productNo=3639460수집 중.........\n",
            "청불 영화로 데이터 수집하지 않습니다.\n",
            "https://series.naver.com/movie/detail.nhn?productNo=6243813수집 중.........\n",
            "9\n",
            "https://series.naver.com/movie/detail.nhn?productNo=6119777수집 중.........\n",
            "7\n",
            "https://series.naver.com/movie/detail.nhn?productNo=6139375수집 중.........\n",
            "9\n",
            "https://series.naver.com/movie/detail.nhn?productNo=6257268수집 중.........\n",
            "9\n",
            "https://series.naver.com/movie/detail.nhn?productNo=6253746수집 중.........\n",
            "8\n",
            "https://series.naver.com/movie/detail.nhn?productNo=6158879수집 중.........\n",
            "9\n",
            "https://series.naver.com/movie/detail.nhn?productNo=3293948수집 중.........\n",
            "청불 영화로 데이터 수집하지 않습니다.\n",
            "https://series.naver.com/movie/detail.nhn?productNo=4356726수집 중.........\n",
            "9\n",
            "https://series.naver.com/movie/detail.nhn?productNo=6176165수집 중.........\n",
            "8\n",
            "https://series.naver.com/movie/detail.nhn?productNo=2686058수집 중.........\n",
            "청불 영화로 데이터 수집하지 않습니다.\n",
            "https://series.naver.com/movie/detail.nhn?productNo=6315371수집 중.........\n",
            "9\n",
            "https://series.naver.com/movie/detail.nhn?productNo=2747742수집 중.........\n",
            "8\n",
            "https://series.naver.com/movie/detail.nhn?productNo=6098871수집 중.........\n",
            "9\n",
            "https://series.naver.com/movie/detail.nhn?productNo=1965132수집 중.........\n",
            "청불 영화로 데이터 수집하지 않습니다.\n",
            "https://series.naver.com/movie/detail.nhn?productNo=6176542수집 중.........\n",
            "8\n",
            "https://series.naver.com/movie/detail.nhn?productNo=4579842수집 중.........\n",
            "8\n",
            "https://series.naver.com/movie/detail.nhn?productNo=6176166수집 중.........\n",
            "8\n",
            "https://series.naver.com/movie/detail.nhn?productNo=6283369수집 중.........\n",
            "6\n",
            "https://series.naver.com/movie/detail.nhn?productNo=3081843수집 중.........\n",
            "청불 영화로 데이터 수집하지 않습니다.\n",
            "https://series.naver.com/movie/detail.nhn?productNo=5110441수집 중.........\n",
            "청불 영화로 데이터 수집하지 않습니다.\n",
            "https://series.naver.com/movie/detail.nhn?productNo=1729987수집 중.........\n",
            "청불 영화로 데이터 수집하지 않습니다.\n",
            "https://series.naver.com/movie/detail.nhn?productNo=4517655수집 중.........\n",
            "6\n",
            "https://series.naver.com/movie/detail.nhn?productNo=5843892수집 중.........\n",
            "8\n",
            "https://series.naver.com/movie/detail.nhn?productNo=6139377수집 중.........\n",
            "8\n",
            "https://series.naver.com/movie/detail.nhn?productNo=4508244수집 중.........\n",
            "9\n",
            "https://series.naver.com/movie/detail.nhn?productNo=6176518수집 중.........\n",
            "청불 영화로 데이터 수집하지 않습니다.\n",
            "https://series.naver.com/movie/detail.nhn?productNo=5673193수집 중.........\n",
            "9\n",
            "https://series.naver.com/movie/detail.nhn?productNo=6063434수집 중.........\n",
            "7\n",
            "https://series.naver.com/movie/detail.nhn?productNo=3593762수집 중.........\n",
            "8\n",
            "https://series.naver.com/movie/detail.nhn?productNo=5751044수집 중.........\n",
            "8\n",
            "https://series.naver.com/movie/detail.nhn?productNo=6039515수집 중.........\n",
            "0\n",
            "https://series.naver.com/movie/detail.nhn?productNo=3241116수집 중.........\n",
            "9\n",
            "https://series.naver.com/movie/detail.nhn?productNo=6119778수집 중.........\n",
            "7\n",
            "https://series.naver.com/movie/detail.nhn?productNo=6210977수집 중.........\n",
            "9\n",
            "https://series.naver.com/movie/detail.nhn?productNo=1605628수집 중.........\n",
            "8\n",
            "https://series.naver.com/movie/detail.nhn?productNo=5778853수집 중.........\n",
            "7\n",
            "https://series.naver.com/movie/detail.nhn?productNo=1537164수집 중.........\n",
            "청불 영화로 데이터 수집하지 않습니다.\n",
            "https://series.naver.com/movie/detail.nhn?productNo=4475562수집 중.........\n",
            "7\n",
            "https://series.naver.com/movie/detail.nhn?productNo=5607754수집 중.........\n",
            "8\n",
            "https://series.naver.com/movie/detail.nhn?productNo=552985수집 중.........\n",
            "청불 영화로 데이터 수집하지 않습니다.\n",
            "https://series.naver.com/movie/detail.nhn?productNo=5482161수집 중.........\n",
            "7\n",
            "https://series.naver.com/movie/detail.nhn?productNo=585441수집 중.........\n",
            "9\n",
            "https://series.naver.com/movie/detail.nhn?productNo=2787777수집 중.........\n",
            "청불 영화로 데이터 수집하지 않습니다.\n",
            "https://series.naver.com/movie/detail.nhn?productNo=2405537수집 중.........\n",
            "7\n",
            "https://series.naver.com/movie/detail.nhn?productNo=3478547수집 중.........\n",
            "9\n",
            "https://series.naver.com/movie/detail.nhn?productNo=1808511수집 중.........\n",
            "9\n",
            "https://series.naver.com/movie/detail.nhn?productNo=4881160수집 중.........\n",
            "7\n",
            "https://series.naver.com/movie/detail.nhn?productNo=1833976수집 중.........\n",
            "청불 영화로 데이터 수집하지 않습니다.\n",
            "https://series.naver.com/movie/detail.nhn?productNo=2909332수집 중.........\n",
            "8\n",
            "https://series.naver.com/movie/detail.nhn?productNo=412868수집 중.........\n",
            "9\n",
            "https://series.naver.com/movie/detail.nhn?productNo=6261830수집 중.........\n",
            "8\n",
            "https://series.naver.com/movie/detail.nhn?productNo=3365404수집 중.........\n",
            "9\n",
            "https://series.naver.com/movie/detail.nhn?productNo=3744354수집 중.........\n",
            "9\n",
            "https://series.naver.com/movie/detail.nhn?productNo=3239240수집 중.........\n",
            "9\n",
            "https://series.naver.com/movie/detail.nhn?productNo=6176543수집 중.........\n",
            "8\n",
            "https://series.naver.com/movie/detail.nhn?productNo=510029수집 중.........\n",
            "청불 영화로 데이터 수집하지 않습니다.\n",
            "https://series.naver.com/movie/detail.nhn?productNo=1101500수집 중.........\n",
            "청불 영화로 데이터 수집하지 않습니다.\n",
            "https://series.naver.com/movie/detail.nhn?productNo=6139376수집 중.........\n",
            "9\n",
            "https://series.naver.com/movie/detail.nhn?productNo=2586406수집 중.........\n",
            "7\n",
            "https://series.naver.com/movie/detail.nhn?productNo=2166247수집 중.........\n",
            "청불 영화로 데이터 수집하지 않습니다.\n",
            "https://series.naver.com/movie/detail.nhn?productNo=1781025수집 중.........\n",
            "9\n",
            "https://series.naver.com/movie/detail.nhn?productNo=2024932수집 중.........\n",
            "8\n",
            "https://series.naver.com/movie/detail.nhn?productNo=5951606수집 중.........\n",
            "청불 영화로 데이터 수집하지 않습니다.\n",
            "https://series.naver.com/movie/detail.nhn?productNo=2682781수집 중.........\n",
            "9\n",
            "https://series.naver.com/movie/detail.nhn?productNo=3744353수집 중.........\n",
            "9\n",
            "https://series.naver.com/movie/detail.nhn?productNo=3448644수집 중.........\n",
            "8\n",
            "https://series.naver.com/movie/detail.nhn?productNo=1753829수집 중.........\n",
            "8\n",
            "https://series.naver.com/movie/detail.nhn?productNo=4465876수집 중.........\n",
            "7\n",
            "https://series.naver.com/movie/detail.nhn?productNo=4821120수집 중.........\n",
            "8\n",
            "https://series.naver.com/movie/detail.nhn?productNo=4180723수집 중.........\n",
            "6\n",
            "https://series.naver.com/movie/detail.nhn?productNo=1775085수집 중.........\n",
            "청불 영화로 데이터 수집하지 않습니다.\n",
            "https://series.naver.com/movie/detail.nhn?productNo=3100069수집 중.........\n",
            "9\n",
            "https://series.naver.com/movie/detail.nhn?productNo=6257257수집 중.........\n",
            "7\n",
            "https://series.naver.com/movie/detail.nhn?productNo=1405968수집 중.........\n",
            "청불 영화로 데이터 수집하지 않습니다.\n",
            "https://series.naver.com/movie/detail.nhn?productNo=4021296수집 중.........\n",
            "9\n",
            "https://series.naver.com/movie/detail.nhn?productNo=3843473수집 중.........\n",
            "7\n",
            "https://series.naver.com/movie/detail.nhn?productNo=2645401수집 중.........\n",
            "9\n",
            "https://series.naver.com/movie/detail.nhn?productNo=6210978수집 중.........\n",
            "9\n",
            "https://series.naver.com/movie/detail.nhn?productNo=2015025수집 중.........\n",
            "9\n",
            "https://series.naver.com/movie/detail.nhn?productNo=2284790수집 중.........\n",
            "8\n",
            "https://series.naver.com/movie/detail.nhn?productNo=3262026수집 중.........\n",
            "9\n",
            "https://series.naver.com/movie/detail.nhn?productNo=3056481수집 중.........\n",
            "청불 영화로 데이터 수집하지 않습니다.\n",
            "https://series.naver.com/movie/detail.nhn?productNo=3327477수집 중.........\n",
            "8\n",
            "https://series.naver.com/movie/detail.nhn?productNo=3226852수집 중.........\n",
            "9\n",
            "https://series.naver.com/movie/detail.nhn?productNo=3241117수집 중.........\n",
            "9\n",
            "https://series.naver.com/movie/detail.nhn?productNo=6069154수집 중.........\n",
            "9\n",
            "https://series.naver.com/movie/detail.nhn?productNo=5404435수집 중.........\n",
            "9\n",
            "https://series.naver.com/movie/detail.nhn?productNo=1760739수집 중.........\n",
            "8\n",
            "https://series.naver.com/movie/detail.nhn?productNo=5265590수집 중.........\n",
            "청불 영화로 데이터 수집하지 않습니다.\n",
            "https://series.naver.com/movie/detail.nhn?productNo=5544841수집 중.........\n",
            "9\n",
            "https://series.naver.com/movie/detail.nhn?productNo=2861221수집 중.........\n",
            "9\n",
            "https://series.naver.com/movie/detail.nhn?productNo=4218051수집 중.........\n",
            "9\n",
            "수집 완료 합니다.....\n",
            "79 79 79\n"
          ],
          "name": "stdout"
        }
      ]
    },
    {
      "cell_type": "markdown",
      "metadata": {
        "id": "olIPUz3p0cQ2"
      },
      "source": [
        "#크롤링한 TOP 100 영화 데이터 랭킹 시각화"
      ]
    },
    {
      "cell_type": "markdown",
      "metadata": {
        "id": "Poyrdr9_0fRb"
      },
      "source": [
        "라이브러리 임포트"
      ]
    },
    {
      "cell_type": "code",
      "metadata": {
        "id": "KsIdjkspMFi3"
      },
      "source": [
        "import plotly.express as px\n",
        "import plotly.graph_objects as go\n",
        "import numpy as np\n",
        "import pandas as pd"
      ],
      "execution_count": null,
      "outputs": []
    },
    {
      "cell_type": "markdown",
      "metadata": {
        "id": "Zq8nTYzX0hH2"
      },
      "source": [
        "데이터 준비하기"
      ]
    },
    {
      "cell_type": "code",
      "metadata": {
        "colab": {
          "base_uri": "https://localhost:8080/"
        },
        "id": "2bmaGYyp0gkz",
        "outputId": "bb2e31ed-58c4-4041-8f83-45858b1f152b"
      },
      "source": [
        "df = pd.read_csv('/content/movie_my_data_weekly.csv', encoding='euc-kr')\n",
        "df.info() "
      ],
      "execution_count": null,
      "outputs": [
        {
          "output_type": "stream",
          "text": [
            "<class 'pandas.core.frame.DataFrame'>\n",
            "RangeIndex: 63 entries, 0 to 62\n",
            "Data columns (total 5 columns):\n",
            " #   Column      Non-Null Count  Dtype \n",
            "---  ------      --------------  ----- \n",
            " 0   Unnamed: 0  63 non-null     int64 \n",
            " 1   제목          63 non-null     object\n",
            " 2   평점          63 non-null     int64 \n",
            " 3   장르          63 non-null     object\n",
            " 4   줄거리         63 non-null     object\n",
            "dtypes: int64(2), object(3)\n",
            "memory usage: 2.6+ KB\n"
          ],
          "name": "stdout"
        }
      ]
    },
    {
      "cell_type": "code",
      "metadata": {
        "colab": {
          "base_uri": "https://localhost:8080/",
          "height": 304
        },
        "id": "jj8fbChO0oPV",
        "outputId": "bb05a939-ac1e-4c30-acec-159e23760843"
      },
      "source": [
        "df.head()"
      ],
      "execution_count": null,
      "outputs": [
        {
          "output_type": "execute_result",
          "data": {
            "text/html": [
              "<div>\n",
              "<style scoped>\n",
              "    .dataframe tbody tr th:only-of-type {\n",
              "        vertical-align: middle;\n",
              "    }\n",
              "\n",
              "    .dataframe tbody tr th {\n",
              "        vertical-align: top;\n",
              "    }\n",
              "\n",
              "    .dataframe thead th {\n",
              "        text-align: right;\n",
              "    }\n",
              "</style>\n",
              "<table border=\"1\" class=\"dataframe\">\n",
              "  <thead>\n",
              "    <tr style=\"text-align: right;\">\n",
              "      <th></th>\n",
              "      <th>Unnamed: 0</th>\n",
              "      <th>제목</th>\n",
              "      <th>평점</th>\n",
              "      <th>장르</th>\n",
              "      <th>줄거리</th>\n",
              "    </tr>\n",
              "  </thead>\n",
              "  <tbody>\n",
              "    <tr>\n",
              "      <th>0</th>\n",
              "      <td>0</td>\n",
              "      <td>극장판 귀멸의 칼날: 무한열차편</td>\n",
              "      <td>9</td>\n",
              "      <td>애니메이션</td>\n",
              "      <td>혈귀로 변해버린 여동생 ‘네즈코’를 인간으로 되돌릴 단서를 찾아 비밀조직 귀살대에 ...</td>\n",
              "    </tr>\n",
              "    <tr>\n",
              "      <th>1</th>\n",
              "      <td>1</td>\n",
              "      <td>콰이어트 플레이스</td>\n",
              "      <td>7</td>\n",
              "      <td>공포/스릴러</td>\n",
              "      <td>소리를 내는 순간 공격받는 극한의 상황 속에서 살아남기 위한 한 가족의 숨막히는 사...</td>\n",
              "    </tr>\n",
              "    <tr>\n",
              "      <th>2</th>\n",
              "      <td>2</td>\n",
              "      <td>킬러의 보디가드</td>\n",
              "      <td>8</td>\n",
              "      <td>액션</td>\n",
              "      <td>세상 제일 잘난 맛에 사는 섭외 1순위 앵그리 보디가드가지명수배 1순위 구강 액션 ...</td>\n",
              "    </tr>\n",
              "    <tr>\n",
              "      <th>3</th>\n",
              "      <td>3</td>\n",
              "      <td>파이프라인</td>\n",
              "      <td>6</td>\n",
              "      <td>액션</td>\n",
              "      <td>손만 대면 대박을 터트리는 도유 업계 최고 천공기술자 ‘핀돌이’는수천억의 기름을 빼...</td>\n",
              "    </tr>\n",
              "    <tr>\n",
              "      <th>4</th>\n",
              "      <td>4</td>\n",
              "      <td>소울</td>\n",
              "      <td>9</td>\n",
              "      <td>애니메이션</td>\n",
              "      <td>뉴욕에서 음악 선생님으로 일하던 ‘조’는꿈에 그리던 최고의 밴드와 재즈 클럽에서 연...</td>\n",
              "    </tr>\n",
              "  </tbody>\n",
              "</table>\n",
              "</div>"
            ],
            "text/plain": [
              "   Unnamed: 0  ...                                                줄거리\n",
              "0           0  ...  혈귀로 변해버린 여동생 ‘네즈코’를 인간으로 되돌릴 단서를 찾아 비밀조직 귀살대에 ...\n",
              "1           1  ...  소리를 내는 순간 공격받는 극한의 상황 속에서 살아남기 위한 한 가족의 숨막히는 사...\n",
              "2           2  ...  세상 제일 잘난 맛에 사는 섭외 1순위 앵그리 보디가드가지명수배 1순위 구강 액션 ...\n",
              "3           3  ...  손만 대면 대박을 터트리는 도유 업계 최고 천공기술자 ‘핀돌이’는수천억의 기름을 빼...\n",
              "4           4  ...  뉴욕에서 음악 선생님으로 일하던 ‘조’는꿈에 그리던 최고의 밴드와 재즈 클럽에서 연...\n",
              "\n",
              "[5 rows x 5 columns]"
            ]
          },
          "metadata": {
            "tags": []
          },
          "execution_count": 3
        }
      ]
    },
    {
      "cell_type": "code",
      "metadata": {
        "colab": {
          "base_uri": "https://localhost:8080/",
          "height": 542
        },
        "id": "-CDo4OcZ0qRW",
        "outputId": "33e83e42-de6d-40e5-f1d3-014caab0c0f2"
      },
      "source": [
        "fig = px.scatter(df, x='제목', y='평점', color='장르')\n",
        "fig.show()"
      ],
      "execution_count": null,
      "outputs": [
        {
          "output_type": "display_data",
          "data": {
            "text/html": [
              "<html>\n",
              "<head><meta charset=\"utf-8\" /></head>\n",
              "<body>\n",
              "    <div>\n",
              "            <script src=\"https://cdnjs.cloudflare.com/ajax/libs/mathjax/2.7.5/MathJax.js?config=TeX-AMS-MML_SVG\"></script><script type=\"text/javascript\">if (window.MathJax) {MathJax.Hub.Config({SVG: {font: \"STIX-Web\"}});}</script>\n",
              "                <script type=\"text/javascript\">window.PlotlyConfig = {MathJaxConfig: 'local'};</script>\n",
              "        <script src=\"https://cdn.plot.ly/plotly-latest.min.js\"></script>    \n",
              "            <div id=\"cc33314d-9ce8-42d8-9e98-b831b90949af\" class=\"plotly-graph-div\" style=\"height:525px; width:100%;\"></div>\n",
              "            <script type=\"text/javascript\">\n",
              "                \n",
              "                    window.PLOTLYENV=window.PLOTLYENV || {};\n",
              "                    \n",
              "                if (document.getElementById(\"cc33314d-9ce8-42d8-9e98-b831b90949af\")) {\n",
              "                    Plotly.newPlot(\n",
              "                        'cc33314d-9ce8-42d8-9e98-b831b90949af',\n",
              "                        [{\"hoverlabel\": {\"namelength\": 0}, \"hovertemplate\": \"\\uc7a5\\ub974=\\uc560\\ub2c8\\uba54\\uc774\\uc158<br>\\uc81c\\ubaa9=%{x}<br>\\ud3c9\\uc810=%{y}\", \"legendgroup\": \"\\uc7a5\\ub974=\\uc560\\ub2c8\\uba54\\uc774\\uc158\", \"marker\": {\"color\": \"#636efa\", \"symbol\": \"circle\"}, \"mode\": \"markers\", \"name\": \"\\uc7a5\\ub974=\\uc560\\ub2c8\\uba54\\uc774\\uc158\", \"showlegend\": true, \"type\": \"scatter\", \"x\": [\"\\uadf9\\uc7a5\\ud310 \\uadc0\\uba78\\uc758 \\uce7c\\ub0a0: \\ubb34\\ud55c\\uc5f4\\ucc28\\ud3b8\", \"\\uc18c\\uc6b8\", \"\\ub77c\\uc57c\\uc640 \\ub9c8\\uc9c0\\ub9c9 \\ub4dc\\ub798\\uace4\", \"\\ud558\\uc6b8\\uc758 \\uc6c0\\uc9c1\\uc774\\ub294 \\uc131\", \"\\ub098\\uc758 \\ud788\\uc5b4\\ub85c \\uc544\\uce74\\ub370\\ubbf8\\uc544 \\ub354 \\ubb34\\ube44: \\ub450 \\uba85\\uc758 \\ud788\\uc5b4\\ub85c\"], \"xaxis\": \"x\", \"y\": [9, 9, 9, 9, 9], \"yaxis\": \"y\"}, {\"hoverlabel\": {\"namelength\": 0}, \"hovertemplate\": \"\\uc7a5\\ub974=\\uacf5\\ud3ec/\\uc2a4\\ub9b4\\ub7ec<br>\\uc81c\\ubaa9=%{x}<br>\\ud3c9\\uc810=%{y}\", \"legendgroup\": \"\\uc7a5\\ub974=\\uacf5\\ud3ec/\\uc2a4\\ub9b4\\ub7ec\", \"marker\": {\"color\": \"#EF553B\", \"symbol\": \"circle\"}, \"mode\": \"markers\", \"name\": \"\\uc7a5\\ub974=\\uacf5\\ud3ec/\\uc2a4\\ub9b4\\ub7ec\", \"showlegend\": true, \"type\": \"scatter\", \"x\": [\"\\ucf70\\uc774\\uc5b4\\ud2b8 \\ud50c\\ub808\\uc774\\uc2a4\", \"\\ub354 \\uc2a4\\ud30c\\uc774\", \"\\uadf8\\uac83: \\ub450 \\ubc88\\uc9f8 \\uc774\\uc57c\\uae30\"], \"xaxis\": \"x\", \"y\": [7, 8, 6], \"yaxis\": \"y\"}, {\"hoverlabel\": {\"namelength\": 0}, \"hovertemplate\": \"\\uc7a5\\ub974=\\uc561\\uc158<br>\\uc81c\\ubaa9=%{x}<br>\\ud3c9\\uc810=%{y}\", \"legendgroup\": \"\\uc7a5\\ub974=\\uc561\\uc158\", \"marker\": {\"color\": \"#00cc96\", \"symbol\": \"circle\"}, \"mode\": \"markers\", \"name\": \"\\uc7a5\\ub974=\\uc561\\uc158\", \"showlegend\": true, \"type\": \"scatter\", \"x\": [\"\\ud0ac\\ub7ec\\uc758 \\ubcf4\\ub514\\uac00\\ub4dc\", \"\\ud30c\\uc774\\ud504\\ub77c\\uc778\", \"\\ud06c\\ub8e8\\uc988 \\ud328\\ubc00\\ub9ac: \\ub274 \\uc5d0\\uc774\\uc9c0\", \"\\uc5b4\\ubca4\\uc838\\uc2a4: \\uc5d4\\ub4dc\\uac8c\\uc784\", \"\\ub178\\ubc14\\ub514 \", \"\\ud14c\\ub137\", \"\\uace0\\uc9c8\\ub77c VS. \\ucf69\", \"\\uc54c\\ub77c\\ub518\", \"\\ud5dd\\uac70\\uac8c\\uc784 : \\ub354 \\ud30c\\uc774\\ub110\", \"\\uc5b4\\ubca4\\uc838\\uc2a4: \\uc778\\ud53c\\ub2c8\\ud2f0 \\uc6cc\", \"\\uc7ad \\uc2a4\\ub098\\uc774\\ub354\\uc758 \\uc800\\uc2a4\\ud2f0\\uc2a4 \\ub9ac\\uadf8\", \"\\ucf54\\ucf54\", \"\\ub3c4\\uad74\", \"\\ubd84\\ub178\\uc758 \\uc9c8\\uc8fc: \\ud649\\uc2a4&\\uc1fc\", \"\\ub2e4\\ub9cc \\uc545\\uc5d0\\uc11c \\uad6c\\ud558\\uc18c\\uc11c\", \"\\uc544\\uc77c\\ub77c\", \"\\ubd84\\ub178\\uc758 \\uc9c8\\uc8fc: \\ub354 \\uc138\\ube10\", \"\\ud5dd\\uac70\\uac8c\\uc784:\\ubaa8\\ud0b9\\uc81c\\uc774\", \"\\ud574\\ub9ac \\ud3ec\\ud130\\uc640 \\ub9c8\\ubc95\\uc0ac\\uc758 \\ub3cc\", \"\\ub808\\ub514 \\ud50c\\ub808\\uc774\\uc5b4 \\uc6d0\", \"\\ubc14\\ub78c\\uc758 \\uac80\\uc2ec : \\uad50\\ud1a0 \\ub300\\ud654\\uc7ac\\ud3b8\", \"\\uaca8\\uc6b8\\uc655\\uad6d 2\", \"\\ucea1\\ud2f4 \\ub9c8\\ube14\", \"\\ub0b4\\uac00 \\uc8fd\\uae30\\ub97c \\ubc14\\ub77c\\ub294 \\uc790\\ub4e4\", \"\\ubca0\\ub188\", \"\\ubaa8\\uc544\\ub098\", \"\\uc2dc\\uce74\\uace0\", \"\\ud0dc\\uadf9\\uae30 \\ud718\\ub0a0\\ub9ac\\uba70\", \"\\uc18c\\ub144\\uc2dc\\uc808\\uc758 \\ub108\", \"101\\ub9c8\\ub9ac\\uc758 \\ub2ec\\ub9c8\\uc2dc\\uc548 \\uac1c\"], \"xaxis\": \"x\", \"y\": [8, 6, 9, 9, 8, 8, 8, 9, 7, 8, 0, 9, 7, 7, 7, 9, 9, 7, 9, 8, 8, 8, 6, 7, 7, 9, 8, 9, 9, 9], \"yaxis\": \"y\"}, {\"hoverlabel\": {\"namelength\": 0}, \"hovertemplate\": \"\\uc7a5\\ub974=\\ub4dc\\ub77c\\ub9c8<br>\\uc81c\\ubaa9=%{x}<br>\\ud3c9\\uc810=%{y}\", \"legendgroup\": \"\\uc7a5\\ub974=\\ub4dc\\ub77c\\ub9c8\", \"marker\": {\"color\": \"#ab63fa\", \"symbol\": \"circle\"}, \"mode\": \"markers\", \"name\": \"\\uc7a5\\ub974=\\ub4dc\\ub77c\\ub9c8\", \"showlegend\": true, \"type\": \"scatter\", \"x\": [\"\\ubbf8\\ub098\\ub9ac\", \"\\uc790\\uc0b0\\uc5b4\\ubcf4\", \"\\ud06c\\ub8e8\\uc5d8\\ub77c\", \"\\ub77c\\ub77c\\ub79c\\ub4dc\", \"\\ub178\\ub9e4\\ub4dc\\ub79c\\ub4dc\", \"\\uc870\\ucee4\", \"\\ub178\\ud2b8\\ubd81\", \"\\uace1\\uc131(\\u54ed\\u8072)\", \"\\ub108\\uc758 \\uc774\\ub984\\uc740.\", \"\\uc2a4\\ud0c0 \\uc774\\uc988 \\ubcf8\", \"\\uc704\\ub300\\ud55c \\uc1fc\\ub9e8\", \"\\uc544\\ub378\\ub77c\\uc778 : \\uba48\\ucdb0\\uc9c4 \\uc2dc\\uac04\", \"\\uc560\\ud504\\ud130\", \"\\uadf8\\ub9b0 \\ubd81\", \"\\uc6d0\\ub354\", \"\\ub9ac\\ud2c0 \\ud3ec\\ub808\\uc2a4\\ud2b8\", \"1987\"], \"xaxis\": \"x\", \"y\": [7, 9, 9, 8, 8, 8, 9, 7, 8, 9, 9, 8, 7, 9, 9, 8, 9], \"yaxis\": \"y\"}, {\"hoverlabel\": {\"namelength\": 0}, \"hovertemplate\": \"\\uc7a5\\ub974=\\ub2e4\\ud050\\uba58\\ud130\\ub9ac<br>\\uc81c\\ubaa9=%{x}<br>\\ud3c9\\uc810=%{y}\", \"legendgroup\": \"\\uc7a5\\ub974=\\ub2e4\\ud050\\uba58\\ud130\\ub9ac\", \"marker\": {\"color\": \"#FFA15A\", \"symbol\": \"circle\"}, \"mode\": \"markers\", \"name\": \"\\uc7a5\\ub974=\\ub2e4\\ud050\\uba58\\ud130\\ub9ac\", \"showlegend\": true, \"type\": \"scatter\", \"x\": [\"\\ubc25\\uc815\", \"\\uc6b8\\uc9c0\\ub9c8 \\ud1a4\\uc988\"], \"xaxis\": \"x\", \"y\": [9, 9], \"yaxis\": \"y\"}, {\"hoverlabel\": {\"namelength\": 0}, \"hovertemplate\": \"\\uc7a5\\ub974=\\ucf54\\ubbf8\\ub514<br>\\uc81c\\ubaa9=%{x}<br>\\ud3c9\\uc810=%{y}\", \"legendgroup\": \"\\uc7a5\\ub974=\\ucf54\\ubbf8\\ub514\", \"marker\": {\"color\": \"#19d3f3\", \"symbol\": \"circle\"}, \"mode\": \"markers\", \"name\": \"\\uc7a5\\ub974=\\ucf54\\ubbf8\\ub514\", \"showlegend\": true, \"type\": \"scatter\", \"x\": [\"500\\uc77c\\uc758 \\uc378\\uba38\", \"\\ub0b4 \\uc774\\uc57c\\uae30!!\", \"\\ube44\\uae34 \\uc5b4\\uac8c\\uc778\", \"\\uc774\\ud504 \\uc628\\ub9ac\", \"\\uc778\\uc0ac\\uc774\\ub4dc \\uc544\\uc6c3\"], \"xaxis\": \"x\", \"y\": [8, 9, 9, 9, 9], \"yaxis\": \"y\"}, {\"hoverlabel\": {\"namelength\": 0}, \"hovertemplate\": \"\\uc7a5\\ub974=\\uba5c\\ub85c<br>\\uc81c\\ubaa9=%{x}<br>\\ud3c9\\uc810=%{y}\", \"legendgroup\": \"\\uc7a5\\ub974=\\uba5c\\ub85c\", \"marker\": {\"color\": \"#FF6692\", \"symbol\": \"circle\"}, \"mode\": \"markers\", \"name\": \"\\uc7a5\\ub974=\\uba5c\\ub85c\", \"showlegend\": true, \"type\": \"scatter\", \"x\": [\"\\uc560\\ud504\\ud130: \\uadf8 \\ud6c4\"], \"xaxis\": \"x\", \"y\": [8], \"yaxis\": \"y\"}],\n",
              "                        {\"legend\": {\"tracegroupgap\": 0}, \"margin\": {\"t\": 60}, \"template\": {\"data\": {\"bar\": [{\"error_x\": {\"color\": \"#2a3f5f\"}, \"error_y\": {\"color\": \"#2a3f5f\"}, \"marker\": {\"line\": {\"color\": \"#E5ECF6\", \"width\": 0.5}}, \"type\": \"bar\"}], \"barpolar\": [{\"marker\": {\"line\": {\"color\": \"#E5ECF6\", \"width\": 0.5}}, \"type\": \"barpolar\"}], \"carpet\": [{\"aaxis\": {\"endlinecolor\": \"#2a3f5f\", \"gridcolor\": \"white\", \"linecolor\": \"white\", \"minorgridcolor\": \"white\", \"startlinecolor\": \"#2a3f5f\"}, \"baxis\": {\"endlinecolor\": \"#2a3f5f\", \"gridcolor\": \"white\", \"linecolor\": \"white\", \"minorgridcolor\": \"white\", \"startlinecolor\": \"#2a3f5f\"}, \"type\": \"carpet\"}], \"choropleth\": [{\"colorbar\": {\"outlinewidth\": 0, \"ticks\": \"\"}, \"type\": \"choropleth\"}], \"contour\": [{\"colorbar\": {\"outlinewidth\": 0, \"ticks\": \"\"}, \"colorscale\": [[0.0, \"#0d0887\"], [0.1111111111111111, \"#46039f\"], [0.2222222222222222, \"#7201a8\"], [0.3333333333333333, \"#9c179e\"], [0.4444444444444444, \"#bd3786\"], [0.5555555555555556, \"#d8576b\"], [0.6666666666666666, \"#ed7953\"], [0.7777777777777778, \"#fb9f3a\"], [0.8888888888888888, \"#fdca26\"], [1.0, \"#f0f921\"]], \"type\": \"contour\"}], \"contourcarpet\": [{\"colorbar\": {\"outlinewidth\": 0, \"ticks\": \"\"}, \"type\": \"contourcarpet\"}], \"heatmap\": [{\"colorbar\": {\"outlinewidth\": 0, \"ticks\": \"\"}, \"colorscale\": [[0.0, \"#0d0887\"], [0.1111111111111111, \"#46039f\"], [0.2222222222222222, \"#7201a8\"], [0.3333333333333333, \"#9c179e\"], [0.4444444444444444, \"#bd3786\"], [0.5555555555555556, \"#d8576b\"], [0.6666666666666666, \"#ed7953\"], [0.7777777777777778, \"#fb9f3a\"], [0.8888888888888888, \"#fdca26\"], [1.0, \"#f0f921\"]], \"type\": \"heatmap\"}], \"heatmapgl\": [{\"colorbar\": {\"outlinewidth\": 0, \"ticks\": \"\"}, \"colorscale\": [[0.0, \"#0d0887\"], [0.1111111111111111, \"#46039f\"], [0.2222222222222222, \"#7201a8\"], [0.3333333333333333, \"#9c179e\"], [0.4444444444444444, \"#bd3786\"], [0.5555555555555556, \"#d8576b\"], [0.6666666666666666, \"#ed7953\"], [0.7777777777777778, \"#fb9f3a\"], [0.8888888888888888, \"#fdca26\"], [1.0, \"#f0f921\"]], \"type\": \"heatmapgl\"}], \"histogram\": [{\"marker\": {\"colorbar\": {\"outlinewidth\": 0, \"ticks\": \"\"}}, \"type\": \"histogram\"}], \"histogram2d\": [{\"colorbar\": {\"outlinewidth\": 0, \"ticks\": \"\"}, \"colorscale\": [[0.0, \"#0d0887\"], [0.1111111111111111, \"#46039f\"], [0.2222222222222222, \"#7201a8\"], [0.3333333333333333, \"#9c179e\"], [0.4444444444444444, \"#bd3786\"], [0.5555555555555556, \"#d8576b\"], [0.6666666666666666, \"#ed7953\"], [0.7777777777777778, \"#fb9f3a\"], [0.8888888888888888, \"#fdca26\"], [1.0, \"#f0f921\"]], \"type\": \"histogram2d\"}], \"histogram2dcontour\": [{\"colorbar\": {\"outlinewidth\": 0, \"ticks\": \"\"}, \"colorscale\": [[0.0, \"#0d0887\"], [0.1111111111111111, \"#46039f\"], [0.2222222222222222, \"#7201a8\"], [0.3333333333333333, \"#9c179e\"], [0.4444444444444444, \"#bd3786\"], [0.5555555555555556, \"#d8576b\"], [0.6666666666666666, \"#ed7953\"], [0.7777777777777778, \"#fb9f3a\"], [0.8888888888888888, \"#fdca26\"], [1.0, \"#f0f921\"]], \"type\": \"histogram2dcontour\"}], \"mesh3d\": [{\"colorbar\": {\"outlinewidth\": 0, \"ticks\": \"\"}, \"type\": \"mesh3d\"}], \"parcoords\": [{\"line\": {\"colorbar\": {\"outlinewidth\": 0, \"ticks\": \"\"}}, \"type\": \"parcoords\"}], \"pie\": [{\"automargin\": true, \"type\": \"pie\"}], \"scatter\": [{\"marker\": {\"colorbar\": {\"outlinewidth\": 0, \"ticks\": \"\"}}, \"type\": \"scatter\"}], \"scatter3d\": [{\"line\": {\"colorbar\": {\"outlinewidth\": 0, \"ticks\": \"\"}}, \"marker\": {\"colorbar\": {\"outlinewidth\": 0, \"ticks\": \"\"}}, \"type\": \"scatter3d\"}], \"scattercarpet\": [{\"marker\": {\"colorbar\": {\"outlinewidth\": 0, \"ticks\": \"\"}}, \"type\": \"scattercarpet\"}], \"scattergeo\": [{\"marker\": {\"colorbar\": {\"outlinewidth\": 0, \"ticks\": \"\"}}, \"type\": \"scattergeo\"}], \"scattergl\": [{\"marker\": {\"colorbar\": {\"outlinewidth\": 0, \"ticks\": \"\"}}, \"type\": \"scattergl\"}], \"scattermapbox\": [{\"marker\": {\"colorbar\": {\"outlinewidth\": 0, \"ticks\": \"\"}}, \"type\": \"scattermapbox\"}], \"scatterpolar\": [{\"marker\": {\"colorbar\": {\"outlinewidth\": 0, \"ticks\": \"\"}}, \"type\": \"scatterpolar\"}], \"scatterpolargl\": [{\"marker\": {\"colorbar\": {\"outlinewidth\": 0, \"ticks\": \"\"}}, \"type\": \"scatterpolargl\"}], \"scatterternary\": [{\"marker\": {\"colorbar\": {\"outlinewidth\": 0, \"ticks\": \"\"}}, \"type\": \"scatterternary\"}], \"surface\": [{\"colorbar\": {\"outlinewidth\": 0, \"ticks\": \"\"}, \"colorscale\": [[0.0, \"#0d0887\"], [0.1111111111111111, \"#46039f\"], [0.2222222222222222, \"#7201a8\"], [0.3333333333333333, \"#9c179e\"], [0.4444444444444444, \"#bd3786\"], [0.5555555555555556, \"#d8576b\"], [0.6666666666666666, \"#ed7953\"], [0.7777777777777778, \"#fb9f3a\"], [0.8888888888888888, \"#fdca26\"], [1.0, \"#f0f921\"]], \"type\": \"surface\"}], \"table\": [{\"cells\": {\"fill\": {\"color\": \"#EBF0F8\"}, \"line\": {\"color\": \"white\"}}, \"header\": {\"fill\": {\"color\": \"#C8D4E3\"}, \"line\": {\"color\": \"white\"}}, \"type\": \"table\"}]}, \"layout\": {\"annotationdefaults\": {\"arrowcolor\": \"#2a3f5f\", \"arrowhead\": 0, \"arrowwidth\": 1}, \"coloraxis\": {\"colorbar\": {\"outlinewidth\": 0, \"ticks\": \"\"}}, \"colorscale\": {\"diverging\": [[0, \"#8e0152\"], [0.1, \"#c51b7d\"], [0.2, \"#de77ae\"], [0.3, \"#f1b6da\"], [0.4, \"#fde0ef\"], [0.5, \"#f7f7f7\"], [0.6, \"#e6f5d0\"], [0.7, \"#b8e186\"], [0.8, \"#7fbc41\"], [0.9, \"#4d9221\"], [1, \"#276419\"]], \"sequential\": [[0.0, \"#0d0887\"], [0.1111111111111111, \"#46039f\"], [0.2222222222222222, \"#7201a8\"], [0.3333333333333333, \"#9c179e\"], [0.4444444444444444, \"#bd3786\"], [0.5555555555555556, \"#d8576b\"], [0.6666666666666666, \"#ed7953\"], [0.7777777777777778, \"#fb9f3a\"], [0.8888888888888888, \"#fdca26\"], [1.0, \"#f0f921\"]], \"sequentialminus\": [[0.0, \"#0d0887\"], [0.1111111111111111, \"#46039f\"], [0.2222222222222222, \"#7201a8\"], [0.3333333333333333, \"#9c179e\"], [0.4444444444444444, \"#bd3786\"], [0.5555555555555556, \"#d8576b\"], [0.6666666666666666, \"#ed7953\"], [0.7777777777777778, \"#fb9f3a\"], [0.8888888888888888, \"#fdca26\"], [1.0, \"#f0f921\"]]}, \"colorway\": [\"#636efa\", \"#EF553B\", \"#00cc96\", \"#ab63fa\", \"#FFA15A\", \"#19d3f3\", \"#FF6692\", \"#B6E880\", \"#FF97FF\", \"#FECB52\"], \"font\": {\"color\": \"#2a3f5f\"}, \"geo\": {\"bgcolor\": \"white\", \"lakecolor\": \"white\", \"landcolor\": \"#E5ECF6\", \"showlakes\": true, \"showland\": true, \"subunitcolor\": \"white\"}, \"hoverlabel\": {\"align\": \"left\"}, \"hovermode\": \"closest\", \"mapbox\": {\"style\": \"light\"}, \"paper_bgcolor\": \"white\", \"plot_bgcolor\": \"#E5ECF6\", \"polar\": {\"angularaxis\": {\"gridcolor\": \"white\", \"linecolor\": \"white\", \"ticks\": \"\"}, \"bgcolor\": \"#E5ECF6\", \"radialaxis\": {\"gridcolor\": \"white\", \"linecolor\": \"white\", \"ticks\": \"\"}}, \"scene\": {\"xaxis\": {\"backgroundcolor\": \"#E5ECF6\", \"gridcolor\": \"white\", \"gridwidth\": 2, \"linecolor\": \"white\", \"showbackground\": true, \"ticks\": \"\", \"zerolinecolor\": \"white\"}, \"yaxis\": {\"backgroundcolor\": \"#E5ECF6\", \"gridcolor\": \"white\", \"gridwidth\": 2, \"linecolor\": \"white\", \"showbackground\": true, \"ticks\": \"\", \"zerolinecolor\": \"white\"}, \"zaxis\": {\"backgroundcolor\": \"#E5ECF6\", \"gridcolor\": \"white\", \"gridwidth\": 2, \"linecolor\": \"white\", \"showbackground\": true, \"ticks\": \"\", \"zerolinecolor\": \"white\"}}, \"shapedefaults\": {\"line\": {\"color\": \"#2a3f5f\"}}, \"ternary\": {\"aaxis\": {\"gridcolor\": \"white\", \"linecolor\": \"white\", \"ticks\": \"\"}, \"baxis\": {\"gridcolor\": \"white\", \"linecolor\": \"white\", \"ticks\": \"\"}, \"bgcolor\": \"#E5ECF6\", \"caxis\": {\"gridcolor\": \"white\", \"linecolor\": \"white\", \"ticks\": \"\"}}, \"title\": {\"x\": 0.05}, \"xaxis\": {\"automargin\": true, \"gridcolor\": \"white\", \"linecolor\": \"white\", \"ticks\": \"\", \"title\": {\"standoff\": 15}, \"zerolinecolor\": \"white\", \"zerolinewidth\": 2}, \"yaxis\": {\"automargin\": true, \"gridcolor\": \"white\", \"linecolor\": \"white\", \"ticks\": \"\", \"title\": {\"standoff\": 15}, \"zerolinecolor\": \"white\", \"zerolinewidth\": 2}}}, \"xaxis\": {\"anchor\": \"y\", \"domain\": [0.0, 1.0], \"title\": {\"text\": \"\\uc81c\\ubaa9\"}}, \"yaxis\": {\"anchor\": \"x\", \"domain\": [0.0, 1.0], \"title\": {\"text\": \"\\ud3c9\\uc810\"}}},\n",
              "                        {\"responsive\": true}\n",
              "                    ).then(function(){\n",
              "                            \n",
              "var gd = document.getElementById('cc33314d-9ce8-42d8-9e98-b831b90949af');\n",
              "var x = new MutationObserver(function (mutations, observer) {{\n",
              "        var display = window.getComputedStyle(gd).display;\n",
              "        if (!display || display === 'none') {{\n",
              "            console.log([gd, 'removed!']);\n",
              "            Plotly.purge(gd);\n",
              "            observer.disconnect();\n",
              "        }}\n",
              "}});\n",
              "\n",
              "// Listen for the removal of the full notebook cells\n",
              "var notebookContainer = gd.closest('#notebook-container');\n",
              "if (notebookContainer) {{\n",
              "    x.observe(notebookContainer, {childList: true});\n",
              "}}\n",
              "\n",
              "// Listen for the clearing of the current output cell\n",
              "var outputEl = gd.closest('.output');\n",
              "if (outputEl) {{\n",
              "    x.observe(outputEl, {childList: true});\n",
              "}}\n",
              "\n",
              "                        })\n",
              "                };\n",
              "                \n",
              "            </script>\n",
              "        </div>\n",
              "</body>\n",
              "</html>"
            ]
          },
          "metadata": {
            "tags": []
          }
        }
      ]
    },
    {
      "cell_type": "code",
      "metadata": {
        "id": "R9rYd7Ly0sak",
        "colab": {
          "base_uri": "https://localhost:8080/",
          "height": 304
        },
        "outputId": "5c0b2e15-2c11-4887-a53f-838b4e2becc1"
      },
      "source": [
        "df_score = df[df.평점 ==9]\n",
        "df_score.tail()"
      ],
      "execution_count": null,
      "outputs": [
        {
          "output_type": "execute_result",
          "data": {
            "text/html": [
              "<div>\n",
              "<style scoped>\n",
              "    .dataframe tbody tr th:only-of-type {\n",
              "        vertical-align: middle;\n",
              "    }\n",
              "\n",
              "    .dataframe tbody tr th {\n",
              "        vertical-align: top;\n",
              "    }\n",
              "\n",
              "    .dataframe thead th {\n",
              "        text-align: right;\n",
              "    }\n",
              "</style>\n",
              "<table border=\"1\" class=\"dataframe\">\n",
              "  <thead>\n",
              "    <tr style=\"text-align: right;\">\n",
              "      <th></th>\n",
              "      <th>Unnamed: 0</th>\n",
              "      <th>제목</th>\n",
              "      <th>평점</th>\n",
              "      <th>장르</th>\n",
              "      <th>줄거리</th>\n",
              "    </tr>\n",
              "  </thead>\n",
              "  <tbody>\n",
              "    <tr>\n",
              "      <th>58</th>\n",
              "      <td>73</td>\n",
              "      <td>태극기 휘날리며</td>\n",
              "      <td>9</td>\n",
              "      <td>액션</td>\n",
              "      <td>가족의 생계를 책임지기 위해 열심히 살아가는 ‘진태’(장동건)는 약혼녀 ‘영신’(이...</td>\n",
              "    </tr>\n",
              "    <tr>\n",
              "      <th>59</th>\n",
              "      <td>74</td>\n",
              "      <td>소년시절의 너</td>\n",
              "      <td>9</td>\n",
              "      <td>액션</td>\n",
              "      <td>시험만 잘 치면 멋진 인생을 살 수 있다고 가르치는 세상에서기댈 곳 없이 세상에 내...</td>\n",
              "    </tr>\n",
              "    <tr>\n",
              "      <th>60</th>\n",
              "      <td>76</td>\n",
              "      <td>하울의 움직이는 성</td>\n",
              "      <td>9</td>\n",
              "      <td>애니메이션</td>\n",
              "      <td>어느 날, 영문도 모른 채 마녀의 저주로 인해 할머니가 된 소녀 '소피'절망 속에서...</td>\n",
              "    </tr>\n",
              "    <tr>\n",
              "      <th>61</th>\n",
              "      <td>77</td>\n",
              "      <td>101마리의 달마시안 개</td>\n",
              "      <td>9</td>\n",
              "      <td>액션</td>\n",
              "      <td>악녀 크루엘라 드빌의 하수인에 달마시안 강아지들이 납치되고 강아지들의 부모인 퐁고와...</td>\n",
              "    </tr>\n",
              "    <tr>\n",
              "      <th>62</th>\n",
              "      <td>78</td>\n",
              "      <td>나의 히어로 아카데미아 더 무비: 두 명의 히어로</td>\n",
              "      <td>9</td>\n",
              "      <td>애니메이션</td>\n",
              "      <td>모두가 ‘개성’이라는 초능력을 가진 세계, 여기에 ‘무개성’의 소년이 있었다!하지만...</td>\n",
              "    </tr>\n",
              "  </tbody>\n",
              "</table>\n",
              "</div>"
            ],
            "text/plain": [
              "    Unnamed: 0  ...                                                줄거리\n",
              "58          73  ...  가족의 생계를 책임지기 위해 열심히 살아가는 ‘진태’(장동건)는 약혼녀 ‘영신’(이...\n",
              "59          74  ...  시험만 잘 치면 멋진 인생을 살 수 있다고 가르치는 세상에서기댈 곳 없이 세상에 내...\n",
              "60          76  ...  어느 날, 영문도 모른 채 마녀의 저주로 인해 할머니가 된 소녀 '소피'절망 속에서...\n",
              "61          77  ...  악녀 크루엘라 드빌의 하수인에 달마시안 강아지들이 납치되고 강아지들의 부모인 퐁고와...\n",
              "62          78  ...  모두가 ‘개성’이라는 초능력을 가진 세계, 여기에 ‘무개성’의 소년이 있었다!하지만...\n",
              "\n",
              "[5 rows x 5 columns]"
            ]
          },
          "metadata": {
            "tags": []
          },
          "execution_count": 5
        }
      ]
    },
    {
      "cell_type": "markdown",
      "metadata": {
        "id": "WCJSdoqk0vR-"
      },
      "source": [
        "9점 평점의 영화 중 가장 큰 비율을 차지하고 있는 장르는?"
      ]
    },
    {
      "cell_type": "code",
      "metadata": {
        "id": "R5jAW75m0tk5",
        "colab": {
          "base_uri": "https://localhost:8080/",
          "height": 542
        },
        "outputId": "910140b2-69da-44f2-baa8-0a159a0df4b7"
      },
      "source": [
        "fig  = px.pie(df_score, values='평점', names='장르')\n",
        "fig.show()"
      ],
      "execution_count": null,
      "outputs": [
        {
          "output_type": "display_data",
          "data": {
            "text/html": [
              "<html>\n",
              "<head><meta charset=\"utf-8\" /></head>\n",
              "<body>\n",
              "    <div>\n",
              "            <script src=\"https://cdnjs.cloudflare.com/ajax/libs/mathjax/2.7.5/MathJax.js?config=TeX-AMS-MML_SVG\"></script><script type=\"text/javascript\">if (window.MathJax) {MathJax.Hub.Config({SVG: {font: \"STIX-Web\"}});}</script>\n",
              "                <script type=\"text/javascript\">window.PlotlyConfig = {MathJaxConfig: 'local'};</script>\n",
              "        <script src=\"https://cdn.plot.ly/plotly-latest.min.js\"></script>    \n",
              "            <div id=\"fa3a0a0a-322c-4160-be2f-939c9fdb89e2\" class=\"plotly-graph-div\" style=\"height:525px; width:100%;\"></div>\n",
              "            <script type=\"text/javascript\">\n",
              "                \n",
              "                    window.PLOTLYENV=window.PLOTLYENV || {};\n",
              "                    \n",
              "                if (document.getElementById(\"fa3a0a0a-322c-4160-be2f-939c9fdb89e2\")) {\n",
              "                    Plotly.newPlot(\n",
              "                        'fa3a0a0a-322c-4160-be2f-939c9fdb89e2',\n",
              "                        [{\"domain\": {\"x\": [0.0, 1.0], \"y\": [0.0, 1.0]}, \"hoverlabel\": {\"namelength\": 0}, \"hovertemplate\": \"\\uc7a5\\ub974=%{label}<br>\\ud3c9\\uc810=%{value}\", \"labels\": [\"\\uc560\\ub2c8\\uba54\\uc774\\uc158\", \"\\uc560\\ub2c8\\uba54\\uc774\\uc158\", \"\\uc561\\uc158\", \"\\ub4dc\\ub77c\\ub9c8\", \"\\uc561\\uc158\", \"\\ub4dc\\ub77c\\ub9c8\", \"\\uc560\\ub2c8\\uba54\\uc774\\uc158\", \"\\uc561\\uc158\", \"\\ub2e4\\ud050\\uba58\\ud130\\ub9ac\", \"\\uc561\\uc158\", \"\\ub4dc\\ub77c\\ub9c8\", \"\\uc561\\uc158\", \"\\uc561\\uc158\", \"\\uc561\\uc158\", \"\\ucf54\\ubbf8\\ub514\", \"\\ub4dc\\ub77c\\ub9c8\", \"\\ub4dc\\ub77c\\ub9c8\", \"\\ucf54\\ubbf8\\ub514\", \"\\ub2e4\\ud050\\uba58\\ud130\\ub9ac\", \"\\ucf54\\ubbf8\\ub514\", \"\\ub4dc\\ub77c\\ub9c8\", \"\\uc561\\uc158\", \"\\ucf54\\ubbf8\\ub514\", \"\\ub4dc\\ub77c\\ub9c8\", \"\\ub4dc\\ub77c\\ub9c8\", \"\\uc561\\uc158\", \"\\uc561\\uc158\", \"\\uc560\\ub2c8\\uba54\\uc774\\uc158\", \"\\uc561\\uc158\", \"\\uc560\\ub2c8\\uba54\\uc774\\uc158\"], \"legendgroup\": \"\", \"name\": \"\", \"showlegend\": true, \"type\": \"pie\", \"values\": [9, 9, 9, 9, 9, 9, 9, 9, 9, 9, 9, 9, 9, 9, 9, 9, 9, 9, 9, 9, 9, 9, 9, 9, 9, 9, 9, 9, 9, 9]}],\n",
              "                        {\"legend\": {\"tracegroupgap\": 0}, \"margin\": {\"t\": 60}, \"template\": {\"data\": {\"bar\": [{\"error_x\": {\"color\": \"#2a3f5f\"}, \"error_y\": {\"color\": \"#2a3f5f\"}, \"marker\": {\"line\": {\"color\": \"#E5ECF6\", \"width\": 0.5}}, \"type\": \"bar\"}], \"barpolar\": [{\"marker\": {\"line\": {\"color\": \"#E5ECF6\", \"width\": 0.5}}, \"type\": \"barpolar\"}], \"carpet\": [{\"aaxis\": {\"endlinecolor\": \"#2a3f5f\", \"gridcolor\": \"white\", \"linecolor\": \"white\", \"minorgridcolor\": \"white\", \"startlinecolor\": \"#2a3f5f\"}, \"baxis\": {\"endlinecolor\": \"#2a3f5f\", \"gridcolor\": \"white\", \"linecolor\": \"white\", \"minorgridcolor\": \"white\", \"startlinecolor\": \"#2a3f5f\"}, \"type\": \"carpet\"}], \"choropleth\": [{\"colorbar\": {\"outlinewidth\": 0, \"ticks\": \"\"}, \"type\": \"choropleth\"}], \"contour\": [{\"colorbar\": {\"outlinewidth\": 0, \"ticks\": \"\"}, \"colorscale\": [[0.0, \"#0d0887\"], [0.1111111111111111, \"#46039f\"], [0.2222222222222222, \"#7201a8\"], [0.3333333333333333, \"#9c179e\"], [0.4444444444444444, \"#bd3786\"], [0.5555555555555556, \"#d8576b\"], [0.6666666666666666, \"#ed7953\"], [0.7777777777777778, \"#fb9f3a\"], [0.8888888888888888, \"#fdca26\"], [1.0, \"#f0f921\"]], \"type\": \"contour\"}], \"contourcarpet\": [{\"colorbar\": {\"outlinewidth\": 0, \"ticks\": \"\"}, \"type\": \"contourcarpet\"}], \"heatmap\": [{\"colorbar\": {\"outlinewidth\": 0, \"ticks\": \"\"}, \"colorscale\": [[0.0, \"#0d0887\"], [0.1111111111111111, \"#46039f\"], [0.2222222222222222, \"#7201a8\"], [0.3333333333333333, \"#9c179e\"], [0.4444444444444444, \"#bd3786\"], [0.5555555555555556, \"#d8576b\"], [0.6666666666666666, \"#ed7953\"], [0.7777777777777778, \"#fb9f3a\"], [0.8888888888888888, \"#fdca26\"], [1.0, \"#f0f921\"]], \"type\": \"heatmap\"}], \"heatmapgl\": [{\"colorbar\": {\"outlinewidth\": 0, \"ticks\": \"\"}, \"colorscale\": [[0.0, \"#0d0887\"], [0.1111111111111111, \"#46039f\"], [0.2222222222222222, \"#7201a8\"], [0.3333333333333333, \"#9c179e\"], [0.4444444444444444, \"#bd3786\"], [0.5555555555555556, \"#d8576b\"], [0.6666666666666666, \"#ed7953\"], [0.7777777777777778, \"#fb9f3a\"], [0.8888888888888888, \"#fdca26\"], [1.0, \"#f0f921\"]], \"type\": \"heatmapgl\"}], \"histogram\": [{\"marker\": {\"colorbar\": {\"outlinewidth\": 0, \"ticks\": \"\"}}, \"type\": \"histogram\"}], \"histogram2d\": [{\"colorbar\": {\"outlinewidth\": 0, \"ticks\": \"\"}, \"colorscale\": [[0.0, \"#0d0887\"], [0.1111111111111111, \"#46039f\"], [0.2222222222222222, \"#7201a8\"], [0.3333333333333333, \"#9c179e\"], [0.4444444444444444, \"#bd3786\"], [0.5555555555555556, \"#d8576b\"], [0.6666666666666666, \"#ed7953\"], [0.7777777777777778, \"#fb9f3a\"], [0.8888888888888888, \"#fdca26\"], [1.0, \"#f0f921\"]], \"type\": \"histogram2d\"}], \"histogram2dcontour\": [{\"colorbar\": {\"outlinewidth\": 0, \"ticks\": \"\"}, \"colorscale\": [[0.0, \"#0d0887\"], [0.1111111111111111, \"#46039f\"], [0.2222222222222222, \"#7201a8\"], [0.3333333333333333, \"#9c179e\"], [0.4444444444444444, \"#bd3786\"], [0.5555555555555556, \"#d8576b\"], [0.6666666666666666, \"#ed7953\"], [0.7777777777777778, \"#fb9f3a\"], [0.8888888888888888, \"#fdca26\"], [1.0, \"#f0f921\"]], \"type\": \"histogram2dcontour\"}], \"mesh3d\": [{\"colorbar\": {\"outlinewidth\": 0, \"ticks\": \"\"}, \"type\": \"mesh3d\"}], \"parcoords\": [{\"line\": {\"colorbar\": {\"outlinewidth\": 0, \"ticks\": \"\"}}, \"type\": \"parcoords\"}], \"pie\": [{\"automargin\": true, \"type\": \"pie\"}], \"scatter\": [{\"marker\": {\"colorbar\": {\"outlinewidth\": 0, \"ticks\": \"\"}}, \"type\": \"scatter\"}], \"scatter3d\": [{\"line\": {\"colorbar\": {\"outlinewidth\": 0, \"ticks\": \"\"}}, \"marker\": {\"colorbar\": {\"outlinewidth\": 0, \"ticks\": \"\"}}, \"type\": \"scatter3d\"}], \"scattercarpet\": [{\"marker\": {\"colorbar\": {\"outlinewidth\": 0, \"ticks\": \"\"}}, \"type\": \"scattercarpet\"}], \"scattergeo\": [{\"marker\": {\"colorbar\": {\"outlinewidth\": 0, \"ticks\": \"\"}}, \"type\": \"scattergeo\"}], \"scattergl\": [{\"marker\": {\"colorbar\": {\"outlinewidth\": 0, \"ticks\": \"\"}}, \"type\": \"scattergl\"}], \"scattermapbox\": [{\"marker\": {\"colorbar\": {\"outlinewidth\": 0, \"ticks\": \"\"}}, \"type\": \"scattermapbox\"}], \"scatterpolar\": [{\"marker\": {\"colorbar\": {\"outlinewidth\": 0, \"ticks\": \"\"}}, \"type\": \"scatterpolar\"}], \"scatterpolargl\": [{\"marker\": {\"colorbar\": {\"outlinewidth\": 0, \"ticks\": \"\"}}, \"type\": \"scatterpolargl\"}], \"scatterternary\": [{\"marker\": {\"colorbar\": {\"outlinewidth\": 0, \"ticks\": \"\"}}, \"type\": \"scatterternary\"}], \"surface\": [{\"colorbar\": {\"outlinewidth\": 0, \"ticks\": \"\"}, \"colorscale\": [[0.0, \"#0d0887\"], [0.1111111111111111, \"#46039f\"], [0.2222222222222222, \"#7201a8\"], [0.3333333333333333, \"#9c179e\"], [0.4444444444444444, \"#bd3786\"], [0.5555555555555556, \"#d8576b\"], [0.6666666666666666, \"#ed7953\"], [0.7777777777777778, \"#fb9f3a\"], [0.8888888888888888, \"#fdca26\"], [1.0, \"#f0f921\"]], \"type\": \"surface\"}], \"table\": [{\"cells\": {\"fill\": {\"color\": \"#EBF0F8\"}, \"line\": {\"color\": \"white\"}}, \"header\": {\"fill\": {\"color\": \"#C8D4E3\"}, \"line\": {\"color\": \"white\"}}, \"type\": \"table\"}]}, \"layout\": {\"annotationdefaults\": {\"arrowcolor\": \"#2a3f5f\", \"arrowhead\": 0, \"arrowwidth\": 1}, \"coloraxis\": {\"colorbar\": {\"outlinewidth\": 0, \"ticks\": \"\"}}, \"colorscale\": {\"diverging\": [[0, \"#8e0152\"], [0.1, \"#c51b7d\"], [0.2, \"#de77ae\"], [0.3, \"#f1b6da\"], [0.4, \"#fde0ef\"], [0.5, \"#f7f7f7\"], [0.6, \"#e6f5d0\"], [0.7, \"#b8e186\"], [0.8, \"#7fbc41\"], [0.9, \"#4d9221\"], [1, \"#276419\"]], \"sequential\": [[0.0, \"#0d0887\"], [0.1111111111111111, \"#46039f\"], [0.2222222222222222, \"#7201a8\"], [0.3333333333333333, \"#9c179e\"], [0.4444444444444444, \"#bd3786\"], [0.5555555555555556, \"#d8576b\"], [0.6666666666666666, \"#ed7953\"], [0.7777777777777778, \"#fb9f3a\"], [0.8888888888888888, \"#fdca26\"], [1.0, \"#f0f921\"]], \"sequentialminus\": [[0.0, \"#0d0887\"], [0.1111111111111111, \"#46039f\"], [0.2222222222222222, \"#7201a8\"], [0.3333333333333333, \"#9c179e\"], [0.4444444444444444, \"#bd3786\"], [0.5555555555555556, \"#d8576b\"], [0.6666666666666666, \"#ed7953\"], [0.7777777777777778, \"#fb9f3a\"], [0.8888888888888888, \"#fdca26\"], [1.0, \"#f0f921\"]]}, \"colorway\": [\"#636efa\", \"#EF553B\", \"#00cc96\", \"#ab63fa\", \"#FFA15A\", \"#19d3f3\", \"#FF6692\", \"#B6E880\", \"#FF97FF\", \"#FECB52\"], \"font\": {\"color\": \"#2a3f5f\"}, \"geo\": {\"bgcolor\": \"white\", \"lakecolor\": \"white\", \"landcolor\": \"#E5ECF6\", \"showlakes\": true, \"showland\": true, \"subunitcolor\": \"white\"}, \"hoverlabel\": {\"align\": \"left\"}, \"hovermode\": \"closest\", \"mapbox\": {\"style\": \"light\"}, \"paper_bgcolor\": \"white\", \"plot_bgcolor\": \"#E5ECF6\", \"polar\": {\"angularaxis\": {\"gridcolor\": \"white\", \"linecolor\": \"white\", \"ticks\": \"\"}, \"bgcolor\": \"#E5ECF6\", \"radialaxis\": {\"gridcolor\": \"white\", \"linecolor\": \"white\", \"ticks\": \"\"}}, \"scene\": {\"xaxis\": {\"backgroundcolor\": \"#E5ECF6\", \"gridcolor\": \"white\", \"gridwidth\": 2, \"linecolor\": \"white\", \"showbackground\": true, \"ticks\": \"\", \"zerolinecolor\": \"white\"}, \"yaxis\": {\"backgroundcolor\": \"#E5ECF6\", \"gridcolor\": \"white\", \"gridwidth\": 2, \"linecolor\": \"white\", \"showbackground\": true, \"ticks\": \"\", \"zerolinecolor\": \"white\"}, \"zaxis\": {\"backgroundcolor\": \"#E5ECF6\", \"gridcolor\": \"white\", \"gridwidth\": 2, \"linecolor\": \"white\", \"showbackground\": true, \"ticks\": \"\", \"zerolinecolor\": \"white\"}}, \"shapedefaults\": {\"line\": {\"color\": \"#2a3f5f\"}}, \"ternary\": {\"aaxis\": {\"gridcolor\": \"white\", \"linecolor\": \"white\", \"ticks\": \"\"}, \"baxis\": {\"gridcolor\": \"white\", \"linecolor\": \"white\", \"ticks\": \"\"}, \"bgcolor\": \"#E5ECF6\", \"caxis\": {\"gridcolor\": \"white\", \"linecolor\": \"white\", \"ticks\": \"\"}}, \"title\": {\"x\": 0.05}, \"xaxis\": {\"automargin\": true, \"gridcolor\": \"white\", \"linecolor\": \"white\", \"ticks\": \"\", \"title\": {\"standoff\": 15}, \"zerolinecolor\": \"white\", \"zerolinewidth\": 2}, \"yaxis\": {\"automargin\": true, \"gridcolor\": \"white\", \"linecolor\": \"white\", \"ticks\": \"\", \"title\": {\"standoff\": 15}, \"zerolinecolor\": \"white\", \"zerolinewidth\": 2}}}},\n",
              "                        {\"responsive\": true}\n",
              "                    ).then(function(){\n",
              "                            \n",
              "var gd = document.getElementById('fa3a0a0a-322c-4160-be2f-939c9fdb89e2');\n",
              "var x = new MutationObserver(function (mutations, observer) {{\n",
              "        var display = window.getComputedStyle(gd).display;\n",
              "        if (!display || display === 'none') {{\n",
              "            console.log([gd, 'removed!']);\n",
              "            Plotly.purge(gd);\n",
              "            observer.disconnect();\n",
              "        }}\n",
              "}});\n",
              "\n",
              "// Listen for the removal of the full notebook cells\n",
              "var notebookContainer = gd.closest('#notebook-container');\n",
              "if (notebookContainer) {{\n",
              "    x.observe(notebookContainer, {childList: true});\n",
              "}}\n",
              "\n",
              "// Listen for the clearing of the current output cell\n",
              "var outputEl = gd.closest('.output');\n",
              "if (outputEl) {{\n",
              "    x.observe(outputEl, {childList: true});\n",
              "}}\n",
              "\n",
              "                        })\n",
              "                };\n",
              "                \n",
              "            </script>\n",
              "        </div>\n",
              "</body>\n",
              "</html>"
            ]
          },
          "metadata": {
            "tags": []
          }
        }
      ]
    }
  ]
}