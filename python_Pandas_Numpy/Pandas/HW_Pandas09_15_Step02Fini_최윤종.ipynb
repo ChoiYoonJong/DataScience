{
 "cells": [
  {
   "cell_type": "code",
   "execution_count": 6,
   "metadata": {},
   "outputs": [],
   "source": [
    "import pandas as pd\n",
    "import numpy as np\n",
    "\n",
    "deptDB = pd.read_csv('../data/deptDB.csv', header = None)\n",
    "sawonDB=pd.read_csv('../data/sawonDB.csv', header = None)\n",
    "geogekDB=pd.read_csv('../data/gogekDB.csv', header = None)\n",
    "\n",
    "deptDB.columns =['deptno','dname','loc']\n",
    "\n",
    "sawonDB.columns=['sabun','saname','deptno','sajob','sapay','sahire','sasex','samgr']\n",
    "\n",
    "geogekDB.columns=['gobun','goname','gotel','gojumin','godam']\n",
    "\n",
    "\n",
    "deptDB['dname'] = deptDB['dname'].str.strip(\"' '\")\n",
    "deptDB['loc'] = deptDB['loc'].str.strip(\"' '\")\n",
    "\n",
    "deptDB['dname'] = deptDB['dname'].str.strip()\n",
    "deptDB['loc'] = deptDB['loc'].str.strip()\n",
    "\n",
    "\n",
    "sawonDB['saname'] = sawonDB['saname'].str.strip(\"' '\")\n",
    "sawonDB['sajob'] = sawonDB['sajob'].str.strip(\"' '\")\n",
    "sawonDB['sahire'] = sawonDB['sahire'].str.strip(\"' '\")\n",
    "sawonDB['sasex'] = sawonDB['sasex'].str.strip(\"' '\")\n",
    "\n",
    "sawonDB['saname'] = sawonDB['saname'].str.strip()\n",
    "sawonDB['sajob'] = sawonDB['sajob'].str.strip()\n",
    "sawonDB['sahire'] = sawonDB['sahire'].str.strip()\n",
    "sawonDB['sasex'] = sawonDB['sasex'].str.strip()\n",
    "\n",
    "geogekDB['goname'] = geogekDB['goname'].str.strip(\"' '\")\n",
    "geogekDB['gotel'] = geogekDB['gotel'].str.strip(\"' '\")\n",
    "geogekDB['gojumin'] = geogekDB['gojumin'].str.strip(\"' '\")\n",
    "\n",
    "geogekDB['goname'] = geogekDB['goname'].str.strip()\n",
    "geogekDB['gotel'] = geogekDB['gotel'].str.strip()\n",
    "geogekDB['gojumin'] = geogekDB['gojumin'].str.strip()"
   ]
  },
  {
   "cell_type": "code",
   "execution_count": 14,
   "metadata": {},
   "outputs": [
    {
     "name": "stdout",
     "output_type": "stream",
     "text": [
      "sajob\n",
      "사원    1575.75\n",
      "Name: sapay, dtype: float64\n"
     ]
    }
   ],
   "source": [
    "sajobChk = sawonDB[:][(sawonDB['sajob']=='대리') | (sawonDB['sajob']=='사원')]\n",
    "sajobCntChk = sajobChk.groupby(['sajob'])['sabun'].count() >=4\n",
    "\n",
    "sajobChkResult = sajobCntChk[sajobCntChk.values]\n",
    "\n",
    "for i, value in enumerate(sajobChkResult.index):\n",
    "    cal = sawonDB[sawonDB['sajob']== value]\n",
    "    print(cal.groupby('sajob')['sapay'].mean())"
   ]
  },
  {
   "cell_type": "code",
   "execution_count": 17,
   "metadata": {},
   "outputs": [
    {
     "data": {
      "text/plain": [
       "sajob\n",
       "대리    3\n",
       "사원    8\n",
       "Name: sabun, dtype: int64"
      ]
     },
     "execution_count": 17,
     "metadata": {},
     "output_type": "execute_result"
    }
   ],
   "source": [
    "sajobChk.groupby(['sajob'])['sabun'].count()"
   ]
  },
  {
   "cell_type": "code",
   "execution_count": 18,
   "metadata": {},
   "outputs": [
    {
     "data": {
      "text/plain": [
       "sajob\n",
       "대리    False\n",
       "사원     True\n",
       "Name: sabun, dtype: bool"
      ]
     },
     "execution_count": 18,
     "metadata": {},
     "output_type": "execute_result"
    }
   ],
   "source": [
    "sajobChk.groupby(['sajob'])['sabun'].count() >= 4"
   ]
  },
  {
   "cell_type": "code",
   "execution_count": 20,
   "metadata": {},
   "outputs": [
    {
     "data": {
      "text/plain": [
       "<pandas.core.groupby.groupby.SeriesGroupBy object at 0x000002655BEF92E8>"
      ]
     },
     "execution_count": 20,
     "metadata": {},
     "output_type": "execute_result"
    }
   ],
   "source": [
    "(sajobChk.groupby(['sajob'])['sabun'])"
   ]
  },
  {
   "cell_type": "code",
   "execution_count": 21,
   "metadata": {},
   "outputs": [
    {
     "data": {
      "text/plain": [
       "sajob\n",
       "대리    False\n",
       "사원     True\n",
       "Name: sabun, dtype: bool"
      ]
     },
     "execution_count": 21,
     "metadata": {},
     "output_type": "execute_result"
    }
   ],
   "source": [
    "sajobCntChk = (sajobChk.groupby(['sajob'])['sabun'].count() >=4)\n",
    "sajobCntChk"
   ]
  }
 ],
 "metadata": {
  "kernelspec": {
   "display_name": "Python 3",
   "language": "python",
   "name": "python3"
  },
  "language_info": {
   "codemirror_mode": {
    "name": "ipython",
    "version": 3
   },
   "file_extension": ".py",
   "mimetype": "text/x-python",
   "name": "python",
   "nbconvert_exporter": "python",
   "pygments_lexer": "ipython3",
   "version": "3.6.5"
  }
 },
 "nbformat": 4,
 "nbformat_minor": 2
}
