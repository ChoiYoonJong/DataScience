{
 "cells": [
  {
   "cell_type": "code",
   "execution_count": 1,
   "metadata": {},
   "outputs": [],
   "source": [
    "import pandas"
   ]
  },
  {
   "cell_type": "code",
   "execution_count": 2,
   "metadata": {},
   "outputs": [],
   "source": [
    "df = pandas.read_csv('../data/gapminder.tsv', sep =\"\\t\")"
   ]
  },
  {
   "cell_type": "code",
   "execution_count": 4,
   "metadata": {},
   "outputs": [
    {
     "name": "stdout",
     "output_type": "stream",
     "text": [
      "Asia ==========>① :\n",
      "77038721.97222222\n",
      "Europe ==========>① :\n",
      "17169764.733333334\n",
      "Africa ==========>① :\n",
      "9916003.142628206\n",
      "Americas ==========>① :\n",
      "24504794.996666666\n",
      "Oceania ==========>① :\n",
      "8874672.333333334\n"
     ]
    }
   ],
   "source": [
    "uniList = df['continent'].unique()\n",
    "for idx in uniList:\n",
    "    print(idx, \"==========>① :\")\n",
    "    grCon = df[df['continent']==idx]\n",
    "    print(grCon['pop'].mean())"
   ]
  },
  {
   "cell_type": "code",
   "execution_count": 12,
   "metadata": {},
   "outputs": [
    {
     "name": "stdout",
     "output_type": "stream",
     "text": [
      "<class 'pandas.core.groupby.groupby.DataFrameGroupBy'>\n",
      "<pandas.core.groupby.groupby.SeriesGroupBy object at 0x0000021A2FAF0550>\n"
     ]
    }
   ],
   "source": [
    "grouped_continent_df = df.groupby('continent')\n",
    "print(type(grouped_continent_df))\n",
    "print(grouped_continent_df['pop'])"
   ]
  },
  {
   "cell_type": "code",
   "execution_count": 8,
   "metadata": {},
   "outputs": [
    {
     "data": {
      "text/plain": [
       "continent\n",
       "Africa      9.916003e+06\n",
       "Americas    2.450479e+07\n",
       "Asia        7.703872e+07\n",
       "Europe      1.716976e+07\n",
       "Oceania     8.874672e+06\n",
       "Name: pop, dtype: float64"
      ]
     },
     "execution_count": 8,
     "metadata": {},
     "output_type": "execute_result"
    }
   ],
   "source": [
    "grouped_continent_df['pop'].mean()"
   ]
  }
 ],
 "metadata": {
  "kernelspec": {
   "display_name": "Python 3",
   "language": "python",
   "name": "python3"
  },
  "language_info": {
   "codemirror_mode": {
    "name": "ipython",
    "version": 3
   },
   "file_extension": ".py",
   "mimetype": "text/x-python",
   "name": "python",
   "nbconvert_exporter": "python",
   "pygments_lexer": "ipython3",
   "version": "3.6.5"
  }
 },
 "nbformat": 4,
 "nbformat_minor": 2
}
