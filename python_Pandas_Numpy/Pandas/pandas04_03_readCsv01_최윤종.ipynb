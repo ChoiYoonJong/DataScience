{
 "cells": [
  {
   "cell_type": "code",
   "execution_count": 20,
   "metadata": {},
   "outputs": [
    {
     "name": "stdout",
     "output_type": "stream",
     "text": [
      "   c0  c1  c2  c3\n",
      "0   0   1   4   7\n",
      "1   1   2   5   8\n",
      "2   2   3   6   9 \n",
      "\n",
      "<class 'pandas.core.frame.DataFrame'>\n"
     ]
    }
   ],
   "source": [
    "import pandas as pd\n",
    "#파일 경로를 찾고 , 변수 file_path 저장\n",
    "file_path = './../DataSet/read_csv_sample.csv' \n",
    "# ./../ 파일 전 경로로 가서 그다음에 그 폴더에 있는 폴더로 들어가서 마지막에 파일 이름을 써서 경로 입력\n",
    "\n",
    "df1 = pd.read_csv(file_path)\n",
    "print(df1, '\\n')\n",
    "print(type(df1))"
   ]
  }
 ],
 "metadata": {
  "kernelspec": {
   "display_name": "Python 3",
   "language": "python",
   "name": "python3"
  },
  "language_info": {
   "codemirror_mode": {
    "name": "ipython",
    "version": 3
   },
   "file_extension": ".py",
   "mimetype": "text/x-python",
   "name": "python",
   "nbconvert_exporter": "python",
   "pygments_lexer": "ipython3",
   "version": "3.6.5"
  }
 },
 "nbformat": 4,
 "nbformat_minor": 2
}
