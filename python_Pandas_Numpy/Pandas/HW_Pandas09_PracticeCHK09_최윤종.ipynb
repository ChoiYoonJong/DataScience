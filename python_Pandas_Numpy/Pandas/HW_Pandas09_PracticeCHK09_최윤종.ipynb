{
 "cells": [
  {
   "cell_type": "code",
   "execution_count": 1,
   "metadata": {},
   "outputs": [],
   "source": [
    "import pandas as pd\n",
    "import numpy as np\n",
    "\n",
    "deptDB = pd.read_csv('../data/deptDB.csv', header = None)\n",
    "sawonDB=pd.read_csv('../data/sawonDB.csv', header = None)\n",
    "geogekDB=pd.read_csv('../data/gogekDB.csv', header = None)\n",
    "\n",
    "deptDB.columns =['deptno','dname','loc']\n",
    "\n",
    "sawonDB.columns=['sabun','saname','deptno','sajob','sapay','sahire','sasex','samgr']\n",
    "\n",
    "geogekDB.columns=['gobun','goname','gotel','gojumin','godam']\n",
    "\n",
    "\n",
    "deptDB['dname'] = deptDB['dname'].str.strip(\"' '\")\n",
    "deptDB['loc'] = deptDB['loc'].str.strip(\"' '\")\n",
    "\n",
    "deptDB['dname'] = deptDB['dname'].str.strip()\n",
    "deptDB['loc'] = deptDB['loc'].str.strip()\n",
    "\n",
    "\n",
    "sawonDB['saname'] = sawonDB['saname'].str.strip(\"' '\")\n",
    "sawonDB['sajob'] = sawonDB['sajob'].str.strip(\"' '\")\n",
    "sawonDB['sahire'] = sawonDB['sahire'].str.strip(\"' '\")\n",
    "sawonDB['sasex'] = sawonDB['sasex'].str.strip(\"' '\")\n",
    "\n",
    "sawonDB['saname'] = sawonDB['saname'].str.strip()\n",
    "sawonDB['sajob'] = sawonDB['sajob'].str.strip()\n",
    "sawonDB['sahire'] = sawonDB['sahire'].str.strip()\n",
    "sawonDB['sasex'] = sawonDB['sasex'].str.strip()\n",
    "\n",
    "geogekDB['goname'] = geogekDB['goname'].str.strip(\"' '\")\n",
    "geogekDB['gotel'] = geogekDB['gotel'].str.strip(\"' '\")\n",
    "geogekDB['gojumin'] = geogekDB['gojumin'].str.strip(\"' '\")\n",
    "\n",
    "geogekDB['goname'] = geogekDB['goname'].str.strip()\n",
    "geogekDB['gotel'] = geogekDB['gotel'].str.strip()\n",
    "geogekDB['gojumin'] = geogekDB['gojumin'].str.strip()"
   ]
  },
  {
   "cell_type": "code",
   "execution_count": null,
   "metadata": {},
   "outputs": [],
   "source": []
  },
  {
   "cell_type": "code",
   "execution_count": 4,
   "metadata": {},
   "outputs": [
    {
     "name": "stdout",
     "output_type": "stream",
     "text": [
      "전산부 직원의 평균 연봉 : 1959.7142857142858\n"
     ]
    }
   ],
   "source": [
    "q7_com_30 = sawonDB[sawonDB['deptno']==30]\n",
    "print(\"전산부 직원의 평균 연봉 :\",q7_com_30['sapay'].mean())"
   ]
  },
  {
   "cell_type": "code",
   "execution_count": null,
   "metadata": {},
   "outputs": [],
   "source": []
  }
 ],
 "metadata": {
  "kernelspec": {
   "display_name": "Python 3",
   "language": "python",
   "name": "python3"
  },
  "language_info": {
   "codemirror_mode": {
    "name": "ipython",
    "version": 3
   },
   "file_extension": ".py",
   "mimetype": "text/x-python",
   "name": "python",
   "nbconvert_exporter": "python",
   "pygments_lexer": "ipython3",
   "version": "3.6.5"
  }
 },
 "nbformat": 4,
 "nbformat_minor": 2
}
