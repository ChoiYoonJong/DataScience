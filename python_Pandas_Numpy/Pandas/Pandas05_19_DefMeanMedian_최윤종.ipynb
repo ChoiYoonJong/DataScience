{
 "cells": [
  {
   "cell_type": "code",
   "execution_count": 41,
   "metadata": {},
   "outputs": [
    {
     "name": "stdout",
     "output_type": "stream",
     "text": [
      "평균값 : 28.0\n",
      "중앙값 : 32\n"
     ]
    }
   ],
   "source": [
    "dataList = [28,31,24,25,30,32,20,30,31,26,31]\n",
    "\n",
    "def mMean(dataList):\n",
    "    a = 0\n",
    "    for i in dataList:\n",
    "        a = a + i\n",
    "    return a / len(dataList)\n",
    "\n",
    "def mMedian(dataList):\n",
    "    b = len(dataList)\n",
    "    if b%2==1:\n",
    "        result = dataList[int((b-1)/2)]\n",
    "    else:\n",
    "        result=(dataList[int(b/2)-1]+dataList[int(b/2)])/2\n",
    "        \n",
    "    return result\n",
    "    \n",
    "    \n",
    "\n",
    "\n",
    "print(\"평균값 : {}\".format(mMean(dataList)))\n",
    "print(\"중앙값 : {}\".format(mMedian(dataList)))\n"
   ]
  },
  {
   "cell_type": "code",
   "execution_count": null,
   "metadata": {},
   "outputs": [],
   "source": []
  }
 ],
 "metadata": {
  "kernelspec": {
   "display_name": "Python 3",
   "language": "python",
   "name": "python3"
  },
  "language_info": {
   "codemirror_mode": {
    "name": "ipython",
    "version": 3
   },
   "file_extension": ".py",
   "mimetype": "text/x-python",
   "name": "python",
   "nbconvert_exporter": "python",
   "pygments_lexer": "ipython3",
   "version": "3.6.5"
  }
 },
 "nbformat": 4,
 "nbformat_minor": 5
}
