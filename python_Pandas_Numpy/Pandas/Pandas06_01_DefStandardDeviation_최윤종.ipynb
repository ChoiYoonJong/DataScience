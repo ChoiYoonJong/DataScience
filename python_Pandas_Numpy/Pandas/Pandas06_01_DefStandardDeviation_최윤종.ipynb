{
 "cells": [
  {
   "cell_type": "code",
   "execution_count": 7,
   "metadata": {},
   "outputs": [],
   "source": [
    "import numpy as np"
   ]
  },
  {
   "cell_type": "code",
   "execution_count": 30,
   "metadata": {},
   "outputs": [
    {
     "name": "stdout",
     "output_type": "stream",
     "text": [
      "평균값 : 28.0\n",
      "중앙값 : 32\n",
      "편차값 : [0.0, 3.0, -4.0, -3.0, 2.0, 4.0, -8.0, 2.0, 3.0, -2.0, 3.0]\n",
      "분산값 : 14.4\n",
      "표준편차값 : 3.794733192202055\n",
      "최대값과 최소값의 차이 : 12\n"
     ]
    }
   ],
   "source": [
    "dataList = [28,31,24,25,30,32,20,30,31,26,31]\n",
    "\n",
    "def mMean(dataList):\n",
    "    a = 0\n",
    "    for i in dataList:\n",
    "        a = a + i\n",
    "    return a / len(dataList)\n",
    "\n",
    "def mMedian(dataList):\n",
    "    b = len(dataList)\n",
    "    if b%2==1:\n",
    "        result = dataList[int((b-1)/2)]\n",
    "    else:\n",
    "        result=(dataList[int(b/2)-1]+dataList[int(b/2)])/2\n",
    "        \n",
    "    return result\n",
    "\n",
    "def mDeviation(dataList):\n",
    "    s = []\n",
    "    for i in dataList:\n",
    "        s.append(i- mMean(dataList))\n",
    "    return s\n",
    "\n",
    "\n",
    "def mVariance(dataList):\n",
    "    avg = np.average(dataList)\n",
    "    var=0\n",
    "    \n",
    "    for num in dataList:\n",
    "        var += (num - avg)**2\n",
    "        \n",
    "    return var / (len(dataList)-1)\n",
    "\n",
    "\n",
    "def mStandardDeviation(dataList):\n",
    "    avg = np.average(dataList)\n",
    "    var=0\n",
    "    \n",
    "    for num in dataList:\n",
    "        var += (num - avg)**2\n",
    "        \n",
    "    return (var / (len(dataList)-1))**(1/2)\n",
    "\n",
    "def mRange():\n",
    "    return max(dataList) - min(dataList)\n",
    "    \n",
    "    \n",
    "    \n",
    "print(\"평균값 : {}\".format(mMean(dataList)))\n",
    "print(\"중앙값 : {}\".format(mMedian(dataList)))\n",
    "print(\"편차값 : {}\".format(mDeviation(dataList)))\n",
    "print(\"분산값 : {}\".format(mVariance(dataList)))\n",
    "print(\"표준편차값 : {}\".format(mStandardDeviation(dataList)))\n",
    "print(\"최대값과 최소값의 차이 : {}\".format(mRange()))"
   ]
  }
 ],
 "metadata": {
  "kernelspec": {
   "display_name": "Python 3",
   "language": "python",
   "name": "python3"
  },
  "language_info": {
   "codemirror_mode": {
    "name": "ipython",
    "version": 3
   },
   "file_extension": ".py",
   "mimetype": "text/x-python",
   "name": "python",
   "nbconvert_exporter": "python",
   "pygments_lexer": "ipython3",
   "version": "3.6.5"
  }
 },
 "nbformat": 4,
 "nbformat_minor": 2
}
