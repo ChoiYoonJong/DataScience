{
 "cells": [
  {
   "cell_type": "code",
   "execution_count": 1,
   "metadata": {},
   "outputs": [],
   "source": [
    "import pandas"
   ]
  },
  {
   "cell_type": "code",
   "execution_count": 2,
   "metadata": {},
   "outputs": [],
   "source": [
    "df = pandas.read_csv('../data/gapminder.tsv', sep='\\t')"
   ]
  },
  {
   "cell_type": "code",
   "execution_count": null,
   "metadata": {},
   "outputs": [],
   "source": [
    "uniList = df['year'].unique()\n",
    "print(type(uniList))\n",
    "print(uniList, \"\")"
   ]
  },
  {
   "cell_type": "code",
   "execution_count": 6,
   "metadata": {},
   "outputs": [
    {
     "name": "stdout",
     "output_type": "stream",
     "text": [
      "<class 'numpy.ndarray'>\n",
      "[1952 1957 1962 1967 1972 1977 1982 1987 1992 1997 2002 2007] \n",
      "====>\n"
     ]
    }
   ],
   "source": [
    "uniList = df['year'].unique()\n",
    "print(type(uniList))\n",
    "print(uniList,\"\\n====>\")"
   ]
  },
  {
   "cell_type": "code",
   "execution_count": 9,
   "metadata": {
    "scrolled": true
   },
   "outputs": [
    {
     "name": "stdout",
     "output_type": "stream",
     "text": [
      "142 \n",
      " ====> 2 \n",
      ":         country continent  year  lifeExp      pop    gdpPercap\n",
      "0   Afghanistan      Asia  1952   28.801  8425333   779.445314\n",
      "12      Albania    Europe  1952   55.230  1282697  1601.056136\n",
      "24      Algeria    Africa  1952   43.077  9279525  2449.008185 n =====> 3 : (142, 6)\n",
      "142 \n",
      " ====> 2 \n",
      ":         country continent  year  lifeExp       pop    gdpPercap\n",
      "1   Afghanistan      Asia  1957   30.332   9240934   820.853030\n",
      "13      Albania    Europe  1957   59.280   1476505  1942.284244\n",
      "25      Algeria    Africa  1957   45.685  10270856  3013.976023 n =====> 3 : (142, 6)\n",
      "142 \n",
      " ====> 2 \n",
      ":         country continent  year  lifeExp       pop    gdpPercap\n",
      "2   Afghanistan      Asia  1962   31.997  10267083   853.100710\n",
      "14      Albania    Europe  1962   64.820   1728137  2312.888958\n",
      "26      Algeria    Africa  1962   48.303  11000948  2550.816880 n =====> 3 : (142, 6)\n",
      "142 \n",
      " ====> 2 \n",
      ":         country continent  year  lifeExp       pop    gdpPercap\n",
      "3   Afghanistan      Asia  1967   34.020  11537966   836.197138\n",
      "15      Albania    Europe  1967   66.220   1984060  2760.196931\n",
      "27      Algeria    Africa  1967   51.407  12760499  3246.991771 n =====> 3 : (142, 6)\n",
      "142 \n",
      " ====> 2 \n",
      ":         country continent  year  lifeExp       pop    gdpPercap\n",
      "4   Afghanistan      Asia  1972   36.088  13079460   739.981106\n",
      "16      Albania    Europe  1972   67.690   2263554  3313.422188\n",
      "28      Algeria    Africa  1972   54.518  14760787  4182.663766 n =====> 3 : (142, 6)\n",
      "142 \n",
      " ====> 2 \n",
      ":         country continent  year  lifeExp       pop    gdpPercap\n",
      "5   Afghanistan      Asia  1977   38.438  14880372   786.113360\n",
      "17      Albania    Europe  1977   68.930   2509048  3533.003910\n",
      "29      Algeria    Africa  1977   58.014  17152804  4910.416756 n =====> 3 : (142, 6)\n",
      "142 \n",
      " ====> 2 \n",
      ":         country continent  year  lifeExp       pop    gdpPercap\n",
      "6   Afghanistan      Asia  1982   39.854  12881816   978.011439\n",
      "18      Albania    Europe  1982   70.420   2780097  3630.880722\n",
      "30      Algeria    Africa  1982   61.368  20033753  5745.160213 n =====> 3 : (142, 6)\n",
      "142 \n",
      " ====> 2 \n",
      ":         country continent  year  lifeExp       pop    gdpPercap\n",
      "7   Afghanistan      Asia  1987   40.822  13867957   852.395945\n",
      "19      Albania    Europe  1987   72.000   3075321  3738.932735\n",
      "31      Algeria    Africa  1987   65.799  23254956  5681.358539 n =====> 3 : (142, 6)\n",
      "142 \n",
      " ====> 2 \n",
      ":         country continent  year  lifeExp       pop    gdpPercap\n",
      "8   Afghanistan      Asia  1992   41.674  16317921   649.341395\n",
      "20      Albania    Europe  1992   71.581   3326498  2497.437901\n",
      "32      Algeria    Africa  1992   67.744  26298373  5023.216647 n =====> 3 : (142, 6)\n",
      "142 \n",
      " ====> 2 \n",
      ":         country continent  year  lifeExp       pop    gdpPercap\n",
      "9   Afghanistan      Asia  1997   41.763  22227415   635.341351\n",
      "21      Albania    Europe  1997   72.950   3428038  3193.054604\n",
      "33      Algeria    Africa  1997   69.152  29072015  4797.295051 n =====> 3 : (142, 6)\n",
      "142 \n",
      " ====> 2 \n",
      ":         country continent  year  lifeExp       pop    gdpPercap\n",
      "10  Afghanistan      Asia  2002   42.129  25268405   726.734055\n",
      "22      Albania    Europe  2002   75.651   3508512  4604.211737\n",
      "34      Algeria    Africa  2002   70.994  31287142  5288.040382 n =====> 3 : (142, 6)\n",
      "142 \n",
      " ====> 2 \n",
      ":         country continent  year  lifeExp       pop    gdpPercap\n",
      "11  Afghanistan      Asia  2007   43.828  31889923   974.580338\n",
      "23      Albania    Europe  2007   76.423   3600523  5937.029526\n",
      "35      Algeria    Africa  2007   72.301  33333216  6223.367465 n =====> 3 : (142, 6)\n",
      "44021219.57042254\n"
     ]
    }
   ],
   "source": [
    "for idx in uniList:\n",
    "    yearList = df[df[\"year\"] == idx]\n",
    "    print(len(yearList), \"\\n ====> 2 \\n:\", yearList.head(3), \"n =====> 3 :\", yearList.shape)\n",
    "print(yearList[\"pop\"].mean())"
   ]
  },
  {
   "cell_type": "code",
   "execution_count": 10,
   "metadata": {},
   "outputs": [
    {
     "name": "stdout",
     "output_type": "stream",
     "text": [
      "<class 'pandas.core.groupby.groupby.DataFrameGroupBy'>\n",
      "<pandas.core.groupby.groupby.SeriesGroupBy object at 0x000001FA93FA9240>\n"
     ]
    }
   ],
   "source": [
    "grouped_year_df = df.groupby('year')\n",
    "print(type(grouped_year_df))\n",
    "print(grouped_year_df[\"pop\"])"
   ]
  },
  {
   "cell_type": "code",
   "execution_count": 11,
   "metadata": {},
   "outputs": [
    {
     "data": {
      "text/plain": [
       "year\n",
       "1952    1.695040e+07\n",
       "1957    1.876341e+07\n",
       "1962    2.042101e+07\n",
       "1967    2.265830e+07\n",
       "1972    2.518998e+07\n",
       "1977    2.767638e+07\n",
       "1982    3.020730e+07\n",
       "1987    3.303857e+07\n",
       "1992    3.599092e+07\n",
       "1997    3.883947e+07\n",
       "2002    4.145759e+07\n",
       "2007    4.402122e+07\n",
       "Name: pop, dtype: float64"
      ]
     },
     "execution_count": 11,
     "metadata": {},
     "output_type": "execute_result"
    }
   ],
   "source": [
    "grouped_year_df[\"pop\"].mean()"
   ]
  },
  {
   "cell_type": "code",
   "execution_count": 12,
   "metadata": {},
   "outputs": [
    {
     "name": "stdout",
     "output_type": "stream",
     "text": [
      "1952 ======> 1 :\n",
      "16950402.46478873\n",
      "1957 ======> 1 :\n",
      "18763412.53521127\n",
      "1962 ======> 1 :\n",
      "20421006.85915493\n",
      "1967 ======> 1 :\n",
      "22658298.478873238\n",
      "1972 ======> 1 :\n",
      "25189979.985915493\n",
      "1977 ======> 1 :\n",
      "27676378.92253521\n",
      "1982 ======> 1 :\n",
      "30207301.690140843\n",
      "1987 ======> 1 :\n",
      "33038573.366197184\n",
      "1992 ======> 1 :\n",
      "35990917.32394366\n",
      "1997 ======> 1 :\n",
      "38839468.112676054\n",
      "2002 ======> 1 :\n",
      "41457588.58450704\n",
      "2007 ======> 1 :\n",
      "44021219.57042254\n"
     ]
    }
   ],
   "source": [
    "uniList = df['year'].unique()\n",
    "for idx in uniList:\n",
    "    print(idx, \"======> 1 :\")\n",
    "    grYear =df[df['year']==idx]\n",
    "    print(grYear['pop'].mean())"
   ]
  },
  {
   "cell_type": "code",
   "execution_count": null,
   "metadata": {},
   "outputs": [],
   "source": []
  }
 ],
 "metadata": {
  "kernelspec": {
   "display_name": "Python 3",
   "language": "python",
   "name": "python3"
  },
  "language_info": {
   "codemirror_mode": {
    "name": "ipython",
    "version": 3
   },
   "file_extension": ".py",
   "mimetype": "text/x-python",
   "name": "python",
   "nbconvert_exporter": "python",
   "pygments_lexer": "ipython3",
   "version": "3.6.5"
  }
 },
 "nbformat": 4,
 "nbformat_minor": 2
}
