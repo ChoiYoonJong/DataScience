{
 "cells": [
  {
   "cell_type": "code",
   "execution_count": 25,
   "metadata": {},
   "outputs": [],
   "source": [
    "import pandas"
   ]
  },
  {
   "cell_type": "code",
   "execution_count": 36,
   "metadata": {},
   "outputs": [],
   "source": [
    "df = pandas.read_csv('../data/gapminder.tsv',sep='\\t')"
   ]
  },
  {
   "cell_type": "code",
   "execution_count": 63,
   "metadata": {},
   "outputs": [
    {
     "name": "stdout",
     "output_type": "stream",
     "text": [
      "------------------------------------------------------------\n",
      "1952년   Africa  지역의 기대수명 평균39.14\n",
      "1952년  Americas 지역의 기대수명 평균53.28\n",
      "1952년    Asia   지역의 기대수명 평균46.31\n",
      "1952년   Europe  지역의 기대수명 평균64.41\n",
      "1952년  Oceania  지역의 기대수명 평균69.25\n",
      "------------------------------------------------------------\n",
      "1957년   Africa  지역의 기대수명 평균41.27\n",
      "1957년  Americas 지역의 기대수명 평균55.96\n",
      "1957년    Asia   지역의 기대수명 평균49.32\n",
      "1957년   Europe  지역의 기대수명 평균66.70\n",
      "1957년  Oceania  지역의 기대수명 평균70.30\n",
      "------------------------------------------------------------\n",
      "1962년   Africa  지역의 기대수명 평균43.32\n",
      "1962년  Americas 지역의 기대수명 평균58.40\n",
      "1962년    Asia   지역의 기대수명 평균51.56\n",
      "1962년   Europe  지역의 기대수명 평균68.54\n",
      "1962년  Oceania  지역의 기대수명 평균71.09\n",
      "------------------------------------------------------------\n",
      "1967년   Africa  지역의 기대수명 평균45.33\n",
      "1967년  Americas 지역의 기대수명 평균60.41\n",
      "1967년    Asia   지역의 기대수명 평균54.66\n",
      "1967년   Europe  지역의 기대수명 평균69.74\n",
      "1967년  Oceania  지역의 기대수명 평균71.31\n",
      "------------------------------------------------------------\n",
      "1972년   Africa  지역의 기대수명 평균47.45\n",
      "1972년  Americas 지역의 기대수명 평균62.39\n",
      "1972년    Asia   지역의 기대수명 평균57.32\n",
      "1972년   Europe  지역의 기대수명 평균70.78\n",
      "1972년  Oceania  지역의 기대수명 평균71.91\n",
      "------------------------------------------------------------\n",
      "1977년   Africa  지역의 기대수명 평균49.58\n",
      "1977년  Americas 지역의 기대수명 평균64.39\n",
      "1977년    Asia   지역의 기대수명 평균59.61\n",
      "1977년   Europe  지역의 기대수명 평균71.94\n",
      "1977년  Oceania  지역의 기대수명 평균72.85\n",
      "------------------------------------------------------------\n",
      "1982년   Africa  지역의 기대수명 평균51.59\n",
      "1982년  Americas 지역의 기대수명 평균66.23\n",
      "1982년    Asia   지역의 기대수명 평균62.62\n",
      "1982년   Europe  지역의 기대수명 평균72.81\n",
      "1982년  Oceania  지역의 기대수명 평균74.29\n",
      "------------------------------------------------------------\n",
      "1987년   Africa  지역의 기대수명 평균53.34\n",
      "1987년  Americas 지역의 기대수명 평균68.09\n",
      "1987년    Asia   지역의 기대수명 평균64.85\n",
      "1987년   Europe  지역의 기대수명 평균73.64\n",
      "1987년  Oceania  지역의 기대수명 평균75.32\n",
      "------------------------------------------------------------\n",
      "1992년   Africa  지역의 기대수명 평균53.63\n",
      "1992년  Americas 지역의 기대수명 평균69.57\n",
      "1992년    Asia   지역의 기대수명 평균66.54\n",
      "1992년   Europe  지역의 기대수명 평균74.44\n",
      "1992년  Oceania  지역의 기대수명 평균76.94\n",
      "------------------------------------------------------------\n",
      "1997년   Africa  지역의 기대수명 평균53.60\n",
      "1997년  Americas 지역의 기대수명 평균71.15\n",
      "1997년    Asia   지역의 기대수명 평균68.02\n",
      "1997년   Europe  지역의 기대수명 평균75.51\n",
      "1997년  Oceania  지역의 기대수명 평균78.19\n",
      "------------------------------------------------------------\n",
      "2002년   Africa  지역의 기대수명 평균53.33\n",
      "2002년  Americas 지역의 기대수명 평균72.42\n",
      "2002년    Asia   지역의 기대수명 평균69.23\n",
      "2002년   Europe  지역의 기대수명 평균76.70\n",
      "2002년  Oceania  지역의 기대수명 평균79.74\n",
      "------------------------------------------------------------\n",
      "2007년   Africa  지역의 기대수명 평균54.81\n",
      "2007년  Americas 지역의 기대수명 평균73.61\n",
      "2007년    Asia   지역의 기대수명 평균70.73\n",
      "2007년   Europe  지역의 기대수명 평균77.65\n",
      "2007년  Oceania  지역의 기대수명 평균80.72\n",
      "------------------------------------------------------------\n"
     ]
    },
    {
     "name": "stderr",
     "output_type": "stream",
     "text": [
      "C:\\Anaconda3_5.2\\lib\\site-packages\\ipykernel_launcher.py:9: UserWarning: Boolean Series key will be reindexed to match DataFrame index.\n",
      "  if __name__ == '__main__':\n"
     ]
    }
   ],
   "source": [
    "uniList_year = df[\"year\"].unique()\n",
    "uniList_continent = df[\"continent\"].unique()\n",
    "uniList_continent.sort()\n",
    "uniList_year.sort()\n",
    "print(\"-\"*60)\n",
    "for i in uniList_year:\n",
    "    Chk01 = df[df[\"year\"]==i]\n",
    "    for j in uniList_continent:\n",
    "        Chk02 = Chk01[df[\"continent\"]==j]\n",
    "        print(f\"{i}년 {j:^10}지역의 기대수명 평균{Chk02['lifeExp'].mean():.2f}\")\n",
    "    print(\"-\"*60)"
   ]
  },
  {
   "cell_type": "code",
   "execution_count": null,
   "metadata": {},
   "outputs": [],
   "source": []
  }
 ],
 "metadata": {
  "kernelspec": {
   "display_name": "Python 3",
   "language": "python",
   "name": "python3"
  },
  "language_info": {
   "codemirror_mode": {
    "name": "ipython",
    "version": 3
   },
   "file_extension": ".py",
   "mimetype": "text/x-python",
   "name": "python",
   "nbconvert_exporter": "python",
   "pygments_lexer": "ipython3",
   "version": "3.6.5"
  }
 },
 "nbformat": 4,
 "nbformat_minor": 2
}
