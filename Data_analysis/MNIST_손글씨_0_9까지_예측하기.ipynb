{
  "nbformat": 4,
  "nbformat_minor": 0,
  "metadata": {
    "colab": {
      "name": "MNIST 손글씨 0-9까지 예측하기.ipynb",
      "provenance": [],
      "collapsed_sections": []
    },
    "kernelspec": {
      "name": "python3",
      "display_name": "Python 3"
    },
    "language_info": {
      "name": "python"
    }
  },
  "cells": [
    {
      "cell_type": "markdown",
      "metadata": {
        "id": "LWp7dW5__vtJ"
      },
      "source": [
        "0부터9까지의 숫자를 예측하는 다중 분류 문제"
      ]
    },
    {
      "cell_type": "markdown",
      "metadata": {
        "id": "RcOyF71E_1Xn"
      },
      "source": [
        "데이터 준비하기"
      ]
    },
    {
      "cell_type": "code",
      "metadata": {
        "id": "xFck2VXQ_Vp3"
      },
      "source": [
        "from tensorflow.keras.datasets.mnist import load_data\n",
        "\n",
        "# 텐서플로우 저장소에서 데이터를 다운받습니다.\n",
        "(x_train, y_train), (x_test, y_test) = load_data(path='mnist.npz')"
      ],
      "execution_count": 1,
      "outputs": []
    },
    {
      "cell_type": "markdown",
      "metadata": {
        "id": "GitaSy-B_-N_"
      },
      "source": [
        "데이터의 형태 확인하기"
      ]
    },
    {
      "cell_type": "code",
      "metadata": {
        "colab": {
          "base_uri": "https://localhost:8080/"
        },
        "id": "PCcRAx-R_6bn",
        "outputId": "b71a441d-8284-46fb-f0fe-2df3186ea716"
      },
      "source": [
        "# 훈련 데이터\n",
        "print(x_train.shape, y_train.shape)\n",
        "print(y_train)\n",
        "\n",
        "# 테스트 데이터\n",
        "print(x_test.shape, y_test.shape)\n",
        "print(y_test)"
      ],
      "execution_count": 2,
      "outputs": [
        {
          "output_type": "stream",
          "text": [
            "(60000, 28, 28) (60000,)\n",
            "[5 0 4 ... 5 6 8]\n",
            "(10000, 28, 28) (10000,)\n",
            "[7 2 1 ... 4 5 6]\n"
          ],
          "name": "stdout"
        }
      ]
    },
    {
      "cell_type": "code",
      "metadata": {
        "colab": {
          "base_uri": "https://localhost:8080/"
        },
        "id": "xAC172O1AS-g",
        "outputId": "d4f3e675-3417-4dee-a15c-e79a56383aea"
      },
      "source": [
        "print(x_train[1])"
      ],
      "execution_count": 3,
      "outputs": [
        {
          "output_type": "stream",
          "text": [
            "[[  0   0   0   0   0   0   0   0   0   0   0   0   0   0   0   0   0   0\n",
            "    0   0   0   0   0   0   0   0   0   0]\n",
            " [  0   0   0   0   0   0   0   0   0   0   0   0   0   0   0   0   0   0\n",
            "    0   0   0   0   0   0   0   0   0   0]\n",
            " [  0   0   0   0   0   0   0   0   0   0   0   0   0   0   0   0   0   0\n",
            "    0   0   0   0   0   0   0   0   0   0]\n",
            " [  0   0   0   0   0   0   0   0   0   0   0   0   0   0   0   0   0   0\n",
            "    0   0   0   0   0   0   0   0   0   0]\n",
            " [  0   0   0   0   0   0   0   0   0   0   0   0   0   0   0  51 159 253\n",
            "  159  50   0   0   0   0   0   0   0   0]\n",
            " [  0   0   0   0   0   0   0   0   0   0   0   0   0   0  48 238 252 252\n",
            "  252 237   0   0   0   0   0   0   0   0]\n",
            " [  0   0   0   0   0   0   0   0   0   0   0   0   0  54 227 253 252 239\n",
            "  233 252  57   6   0   0   0   0   0   0]\n",
            " [  0   0   0   0   0   0   0   0   0   0   0  10  60 224 252 253 252 202\n",
            "   84 252 253 122   0   0   0   0   0   0]\n",
            " [  0   0   0   0   0   0   0   0   0   0   0 163 252 252 252 253 252 252\n",
            "   96 189 253 167   0   0   0   0   0   0]\n",
            " [  0   0   0   0   0   0   0   0   0   0  51 238 253 253 190 114 253 228\n",
            "   47  79 255 168   0   0   0   0   0   0]\n",
            " [  0   0   0   0   0   0   0   0   0  48 238 252 252 179  12  75 121  21\n",
            "    0   0 253 243  50   0   0   0   0   0]\n",
            " [  0   0   0   0   0   0   0   0  38 165 253 233 208  84   0   0   0   0\n",
            "    0   0 253 252 165   0   0   0   0   0]\n",
            " [  0   0   0   0   0   0   0   7 178 252 240  71  19  28   0   0   0   0\n",
            "    0   0 253 252 195   0   0   0   0   0]\n",
            " [  0   0   0   0   0   0   0  57 252 252  63   0   0   0   0   0   0   0\n",
            "    0   0 253 252 195   0   0   0   0   0]\n",
            " [  0   0   0   0   0   0   0 198 253 190   0   0   0   0   0   0   0   0\n",
            "    0   0 255 253 196   0   0   0   0   0]\n",
            " [  0   0   0   0   0   0  76 246 252 112   0   0   0   0   0   0   0   0\n",
            "    0   0 253 252 148   0   0   0   0   0]\n",
            " [  0   0   0   0   0   0  85 252 230  25   0   0   0   0   0   0   0   0\n",
            "    7 135 253 186  12   0   0   0   0   0]\n",
            " [  0   0   0   0   0   0  85 252 223   0   0   0   0   0   0   0   0   7\n",
            "  131 252 225  71   0   0   0   0   0   0]\n",
            " [  0   0   0   0   0   0  85 252 145   0   0   0   0   0   0   0  48 165\n",
            "  252 173   0   0   0   0   0   0   0   0]\n",
            " [  0   0   0   0   0   0  86 253 225   0   0   0   0   0   0 114 238 253\n",
            "  162   0   0   0   0   0   0   0   0   0]\n",
            " [  0   0   0   0   0   0  85 252 249 146  48  29  85 178 225 253 223 167\n",
            "   56   0   0   0   0   0   0   0   0   0]\n",
            " [  0   0   0   0   0   0  85 252 252 252 229 215 252 252 252 196 130   0\n",
            "    0   0   0   0   0   0   0   0   0   0]\n",
            " [  0   0   0   0   0   0  28 199 252 252 253 252 252 233 145   0   0   0\n",
            "    0   0   0   0   0   0   0   0   0   0]\n",
            " [  0   0   0   0   0   0   0  25 128 252 253 252 141  37   0   0   0   0\n",
            "    0   0   0   0   0   0   0   0   0   0]\n",
            " [  0   0   0   0   0   0   0   0   0   0   0   0   0   0   0   0   0   0\n",
            "    0   0   0   0   0   0   0   0   0   0]\n",
            " [  0   0   0   0   0   0   0   0   0   0   0   0   0   0   0   0   0   0\n",
            "    0   0   0   0   0   0   0   0   0   0]\n",
            " [  0   0   0   0   0   0   0   0   0   0   0   0   0   0   0   0   0   0\n",
            "    0   0   0   0   0   0   0   0   0   0]\n",
            " [  0   0   0   0   0   0   0   0   0   0   0   0   0   0   0   0   0   0\n",
            "    0   0   0   0   0   0   0   0   0   0]]\n"
          ],
          "name": "stdout"
        }
      ]
    },
    {
      "cell_type": "markdown",
      "metadata": {
        "id": "pedC-5zoA2AO"
      },
      "source": [
        "데이터 그려보기"
      ]
    },
    {
      "cell_type": "code",
      "metadata": {
        "colab": {
          "base_uri": "https://localhost:8080/",
          "height": 298
        },
        "id": "27l2i13HAf1H",
        "outputId": "9f0c9aeb-95b3-41a0-a2e0-033a95b19252"
      },
      "source": [
        "import matplotlib.pyplot as plt\n",
        "import numpy as np\n",
        "\n",
        "idx = 2\n",
        "img = x_train[idx, :]\n",
        "label = y_train[idx]\n",
        "plt.figure()\n",
        "plt.imshow(img)\n",
        "plt.title('%d-th data, label is %d' % (idx,label))"
      ],
      "execution_count": 4,
      "outputs": [
        {
          "output_type": "execute_result",
          "data": {
            "text/plain": [
              "Text(0.5, 1.0, '2-th data, label is 4')"
            ]
          },
          "metadata": {
            "tags": []
          },
          "execution_count": 4
        },
        {
          "output_type": "display_data",
          "data": {
            "image/png": "[encoded data removed]",
            "text/plain": [
              "<Figure size 432x288 with 1 Axes>"
            ]
          },
          "metadata": {
            "tags": [],
            "needs_background": "light"
          }
        }
      ]
    },
    {
      "cell_type": "markdown",
      "metadata": {
        "id": "_CyjThpEBb7Y"
      },
      "source": [
        "검증 데이터 만들기"
      ]
    },
    {
      "cell_type": "code",
      "metadata": {
        "id": "cDgIoIL_A6dn"
      },
      "source": [
        "from sklearn.model_selection import train_test_split\n",
        "\n",
        "# 훈련/검증 데이터를 7:3 비율로 분리\n",
        "x_train, x_val, y_train, y_val = train_test_split(x_train,y_train,\n",
        "                                                  test_size=0.3,\n",
        "                                                  random_state=777)"
      ],
      "execution_count": 5,
      "outputs": []
    },
    {
      "cell_type": "code",
      "metadata": {
        "colab": {
          "base_uri": "https://localhost:8080/"
        },
        "id": "8UrOwCGyB-2M",
        "outputId": "5823923e-0d27-4a8b-aa8d-2ddae4d1730a"
      },
      "source": [
        "print(f'훈련 데이터 {x_train.shape} 레이블 {y_train.shape}')\n",
        "print(f'검증데이터 {x_val.shape} 레이블 {y_val.shape}')"
      ],
      "execution_count": 6,
      "outputs": [
        {
          "output_type": "stream",
          "text": [
            "훈련 데이터 (42000, 28, 28) 레이블 (42000,)\n",
            "검증데이터 (18000, 28, 28) 레이블 (18000,)\n"
          ],
          "name": "stdout"
        }
      ]
    },
    {
      "cell_type": "markdown",
      "metadata": {
        "id": "Y43aa275CYYT"
      },
      "source": [
        "모델 입력을 위한 훈련 데이터(손글씨 이미지) 전처리"
      ]
    },
    {
      "cell_type": "markdown",
      "metadata": {
        "id": "6wTlwngPCoXN"
      },
      "source": [
        "1_ 2차원 배열 -> 1차원 배열로 변경 (28*28 = 784)"
      ]
    },
    {
      "cell_type": "code",
      "metadata": {
        "id": "jc7XsIyNDAUD"
      },
      "source": [
        "# 모델의 입력으로 사용하기 위한 전처리 과정\n",
        "\n",
        "num_x_train = x_train.shape[0] #42000\n",
        "num_x_val = x_val.shape[0] #18000\n",
        "num_x_test = x_test.shape[0] #10000"
      ],
      "execution_count": 7,
      "outputs": []
    },
    {
      "cell_type": "code",
      "metadata": {
        "colab": {
          "base_uri": "https://localhost:8080/"
        },
        "id": "9jnhP93_DSH_",
        "outputId": "14c64071-079f-419d-cbb3-af646d2f2f42"
      },
      "source": [
        "# 2차원 배열 -> 1차원 배열로 변경 (28*28 =784)\n",
        "\n",
        "x_train = (x_train.reshape((num_x_train,28*28)))\n",
        "x_val = (x_val.reshape((num_x_val,28*28)))\n",
        "x_test = (x_test.reshape((num_x_test,28*28)))\n",
        "\n",
        "print(x_train.shape)  # 모델 입력을 위해 데이터를 784의 1차원으로 변경\n",
        "print(x_val.shape)\n",
        "print(x_test.shape)"
      ],
      "execution_count": 8,
      "outputs": [
        {
          "output_type": "stream",
          "text": [
            "(42000, 784)\n",
            "(18000, 784)\n",
            "(10000, 784)\n"
          ],
          "name": "stdout"
        }
      ]
    },
    {
      "cell_type": "code",
      "metadata": {
        "colab": {
          "base_uri": "https://localhost:8080/"
        },
        "id": "XzaAsAYLDk_0",
        "outputId": "51ad27ef-d8dc-47f4-cfa7-c839e7e04c2e"
      },
      "source": [
        "# 데이터 스케일링 0~255 -> 0~1 MinMax 알고리즘 사용\n",
        "\n",
        "x_train = x_train /255\n",
        "x_val = x_val / 255\n",
        "x_test = x_test / 255\n",
        "\n",
        "print(x_train[0])"
      ],
      "execution_count": 9,
      "outputs": [
        {
          "output_type": "stream",
          "text": [
            "[0.         0.         0.         0.         0.         0.\n",
            " 0.         0.         0.         0.         0.         0.\n",
            " 0.         0.         0.         0.         0.         0.\n",
            " 0.         0.         0.         0.         0.         0.\n",
            " 0.         0.         0.         0.         0.         0.\n",
            " 0.         0.         0.         0.         0.         0.\n",
            " 0.         0.         0.         0.         0.         0.\n",
            " 0.         0.         0.         0.         0.         0.\n",
            " 0.         0.         0.         0.         0.         0.\n",
            " 0.         0.         0.         0.         0.         0.\n",
            " 0.         0.         0.         0.         0.         0.\n",
            " 0.         0.         0.         0.         0.         0.\n",
            " 0.         0.         0.         0.         0.         0.\n",
            " 0.         0.         0.         0.         0.         0.\n",
            " 0.         0.         0.         0.         0.         0.\n",
            " 0.         0.         0.         0.         0.         0.\n",
            " 0.         0.09803922 0.49411765 0.81568627 0.99607843 0.88627451\n",
            " 0.04705882 0.         0.         0.         0.         0.\n",
            " 0.         0.         0.         0.         0.         0.\n",
            " 0.         0.         0.         0.         0.         0.\n",
            " 0.         0.         0.         0.         0.05882353 0.82745098\n",
            " 0.99607843 0.99215686 0.99215686 0.99215686 0.4        0.\n",
            " 0.         0.         0.         0.         0.         0.\n",
            " 0.         0.         0.         0.         0.         0.\n",
            " 0.         0.         0.         0.         0.         0.\n",
            " 0.         0.         0.54901961 0.99215686 0.99607843 0.99215686\n",
            " 0.99215686 0.99215686 0.7254902  0.         0.         0.\n",
            " 0.         0.         0.         0.         0.         0.\n",
            " 0.         0.         0.         0.         0.         0.\n",
            " 0.         0.         0.         0.         0.         0.\n",
            " 0.7372549  0.99215686 0.99607843 0.99215686 0.99215686 0.99215686\n",
            " 0.80784314 0.         0.         0.         0.         0.\n",
            " 0.         0.         0.         0.         0.         0.\n",
            " 0.         0.         0.         0.         0.         0.\n",
            " 0.         0.         0.         0.         0.25490196 0.94509804\n",
            " 0.99607843 0.85490196 0.99215686 0.99215686 0.67058824 0.\n",
            " 0.         0.         0.         0.         0.         0.\n",
            " 0.         0.         0.         0.         0.         0.\n",
            " 0.         0.         0.         0.         0.         0.\n",
            " 0.         0.         0.         0.1372549  0.18431373 0.33333333\n",
            " 0.99215686 0.99215686 0.64313725 0.         0.         0.\n",
            " 0.         0.         0.         0.         0.         0.\n",
            " 0.         0.         0.         0.         0.         0.\n",
            " 0.         0.         0.         0.         0.         0.\n",
            " 0.         0.         0.         0.51372549 0.99215686 0.99215686\n",
            " 0.18039216 0.         0.         0.         0.         0.\n",
            " 0.         0.         0.         0.         0.         0.\n",
            " 0.         0.         0.         0.         0.         0.\n",
            " 0.         0.         0.         0.         0.         0.\n",
            " 0.23921569 0.93333333 0.99215686 0.70588235 0.00392157 0.\n",
            " 0.         0.         0.         0.         0.         0.\n",
            " 0.         0.         0.         0.         0.         0.\n",
            " 0.         0.         0.         0.         0.         0.\n",
            " 0.         0.         0.         0.         0.66666667 0.99215686\n",
            " 0.99215686 0.51764706 0.         0.         0.         0.\n",
            " 0.         0.         0.         0.         0.         0.\n",
            " 0.         0.         0.         0.         0.         0.\n",
            " 0.         0.         0.         0.         0.         0.\n",
            " 0.         0.41176471 0.99607843 0.99215686 0.69019608 0.08627451\n",
            " 0.         0.         0.         0.         0.         0.\n",
            " 0.         0.         0.         0.         0.         0.\n",
            " 0.         0.         0.         0.         0.         0.\n",
            " 0.         0.         0.         0.         0.44313725 0.99607843\n",
            " 1.         0.66666667 0.08235294 0.         0.         0.\n",
            " 0.         0.         0.         0.         0.         0.\n",
            " 0.         0.         0.         0.         0.         0.\n",
            " 0.         0.         0.         0.         0.         0.\n",
            " 0.         0.44705882 0.97647059 0.99215686 0.80392157 0.09411765\n",
            " 0.         0.         0.         0.         0.         0.\n",
            " 0.         0.         0.         0.         0.         0.\n",
            " 0.         0.         0.         0.         0.         0.00784314\n",
            " 0.34117647 0.77254902 0.77254902 0.74509804 0.6627451  0.98431373\n",
            " 0.99215686 0.82745098 0.08235294 0.         0.         0.\n",
            " 0.         0.         0.         0.01176471 0.31372549 0.01176471\n",
            " 0.         0.         0.         0.         0.         0.\n",
            " 0.         0.         0.         0.50196078 0.99215686 0.99215686\n",
            " 0.99215686 0.99215686 0.99215686 0.99215686 0.80784314 0.08627451\n",
            " 0.         0.         0.         0.         0.         0.\n",
            " 0.         0.57647059 0.91764706 0.08627451 0.         0.\n",
            " 0.         0.         0.         0.         0.         0.\n",
            " 0.21568627 0.94509804 0.99215686 0.99215686 0.99215686 0.99215686\n",
            " 0.99215686 0.99215686 0.7372549  0.05098039 0.         0.\n",
            " 0.         0.         0.         0.01568627 0.56470588 0.98823529\n",
            " 0.81176471 0.         0.         0.         0.         0.\n",
            " 0.         0.         0.         0.         0.59607843 0.99215686\n",
            " 0.99215686 0.99215686 0.99215686 0.98431373 0.78039216 0.98823529\n",
            " 0.99215686 0.71764706 0.02745098 0.         0.         0.\n",
            " 0.         0.26666667 0.99215686 0.99215686 0.21176471 0.\n",
            " 0.         0.         0.         0.         0.         0.\n",
            " 0.         0.         0.07843137 0.52941176 0.99215686 0.99215686\n",
            " 0.61176471 0.27058824 0.         0.83529412 0.99215686 0.99215686\n",
            " 0.81176471 0.3254902  0.         0.         0.38039216 0.9372549\n",
            " 0.99215686 0.91764706 0.09803922 0.         0.         0.\n",
            " 0.         0.         0.         0.         0.         0.\n",
            " 0.         0.00784314 0.03529412 0.03529412 0.00392157 0.\n",
            " 0.         0.10588235 0.82352941 0.99215686 0.99607843 0.98431373\n",
            " 0.95686275 0.95686275 0.98823529 0.99215686 0.99215686 0.05882353\n",
            " 0.         0.         0.         0.         0.         0.\n",
            " 0.         0.         0.         0.         0.         0.\n",
            " 0.         0.         0.         0.         0.         0.\n",
            " 0.07058824 0.69019608 0.99607843 0.99215686 0.99215686 0.99215686\n",
            " 0.99215686 0.95686275 0.39215686 0.00784314 0.         0.\n",
            " 0.         0.         0.         0.         0.         0.\n",
            " 0.         0.         0.         0.         0.         0.\n",
            " 0.         0.         0.         0.         0.         0.\n",
            " 0.49019608 0.62352941 0.62352941 0.75686275 0.55294118 0.23921569\n",
            " 0.         0.         0.         0.         0.         0.\n",
            " 0.         0.         0.         0.         0.         0.\n",
            " 0.         0.         0.         0.         0.         0.\n",
            " 0.         0.         0.         0.         0.         0.\n",
            " 0.         0.         0.         0.         0.         0.\n",
            " 0.         0.         0.         0.         0.         0.\n",
            " 0.         0.         0.         0.         0.         0.\n",
            " 0.         0.         0.         0.         0.         0.\n",
            " 0.         0.         0.         0.         0.         0.\n",
            " 0.         0.         0.         0.         0.         0.\n",
            " 0.         0.         0.         0.         0.         0.\n",
            " 0.         0.         0.         0.         0.         0.\n",
            " 0.         0.         0.         0.         0.         0.\n",
            " 0.         0.         0.         0.         0.         0.\n",
            " 0.         0.         0.         0.         0.         0.\n",
            " 0.         0.         0.         0.         0.         0.\n",
            " 0.         0.         0.         0.         0.         0.\n",
            " 0.         0.         0.         0.         0.         0.\n",
            " 0.         0.         0.         0.         0.         0.\n",
            " 0.         0.         0.         0.         0.         0.\n",
            " 0.         0.         0.         0.         0.         0.\n",
            " 0.         0.         0.         0.         0.         0.\n",
            " 0.         0.         0.         0.         0.         0.\n",
            " 0.         0.         0.         0.         0.         0.\n",
            " 0.         0.         0.         0.        ]\n"
          ],
          "name": "stdout"
        }
      ]
    },
    {
      "cell_type": "markdown",
      "metadata": {
        "id": "hQAjCvDVGUde"
      },
      "source": [
        "모델 입력을 위한 데이블(정답) 전처리"
      ]
    },
    {
      "cell_type": "code",
      "metadata": {
        "colab": {
          "base_uri": "https://localhost:8080/"
        },
        "id": "34A9lpG_G0k_",
        "outputId": "d9af26f6-f1e1-42e1-d832-d276480a7d48"
      },
      "source": [
        "print(y_train)"
      ],
      "execution_count": 10,
      "outputs": [
        {
          "output_type": "stream",
          "text": [
            "[2 7 6 ... 3 4 5]\n"
          ],
          "name": "stdout"
        }
      ]
    },
    {
      "cell_type": "code",
      "metadata": {
        "id": "si6BrOxgGZIk"
      },
      "source": [
        "from tensorflow.keras.utils import to_categorical\n",
        "\n",
        "# 각 데이터의 레이브 0~9 숫자 값을 범주형 형태로 변경\n",
        "\n",
        "y_train = to_categorical(y_train)\n",
        "y_val = to_categorical(y_val)\n",
        "y_test = to_categorical(y_test)"
      ],
      "execution_count": 12,
      "outputs": []
    },
    {
      "cell_type": "code",
      "metadata": {
        "colab": {
          "base_uri": "https://localhost:8080/"
        },
        "id": "L6Zo6SlpHEJ-",
        "outputId": "09f09ec4-d32b-440c-8d27-715e3a50e30d"
      },
      "source": [
        "print(y_train)"
      ],
      "execution_count": 13,
      "outputs": [
        {
          "output_type": "stream",
          "text": [
            "[[0. 0. 1. ... 0. 0. 0.]\n",
            " [0. 0. 0. ... 1. 0. 0.]\n",
            " [0. 0. 0. ... 0. 0. 0.]\n",
            " ...\n",
            " [0. 0. 0. ... 0. 0. 0.]\n",
            " [0. 0. 0. ... 0. 0. 0.]\n",
            " [0. 0. 0. ... 0. 0. 0.]]\n"
          ],
          "name": "stdout"
        }
      ]
    },
    {
      "cell_type": "markdown",
      "metadata": {
        "id": "zMAk9qJeHs28"
      },
      "source": [
        "모델 구성하기"
      ]
    },
    {
      "cell_type": "code",
      "metadata": {
        "id": "AhkEXUqrHIDA"
      },
      "source": [
        "from keras.models import Sequential\n",
        "from keras.layers import Dense\n",
        "\n",
        "model = Sequential()\n",
        "model.add(Dense(64, activation='relu', input_shape=(784,)))\n",
        "model.add(Dense(32, activation='relu'))\n",
        "model.add(Dense(10, activation='softmax'))"
      ],
      "execution_count": 16,
      "outputs": []
    },
    {
      "cell_type": "markdown",
      "metadata": {
        "id": "yXTWJd60JOPI"
      },
      "source": [
        "모델 설정하기"
      ]
    },
    {
      "cell_type": "code",
      "metadata": {
        "id": "ZU7XC-ijITkI"
      },
      "source": [
        "model.compile(loss='categorical_crossentropy',\n",
        "              optimizer='adam',\n",
        "              metrics=['accuracy'])"
      ],
      "execution_count": 17,
      "outputs": []
    },
    {
      "cell_type": "code",
      "metadata": {
        "colab": {
          "base_uri": "https://localhost:8080/"
        },
        "id": "Bdy3BxfGJefK",
        "outputId": "81c6e08a-1cd8-44fc-ab38-1415c19df124"
      },
      "source": [
        "history = model.fit(x_train, y_train,\n",
        "                    epochs=30,\n",
        "                    batch_size=128,\n",
        "                    validation_data=(x_val, y_val))"
      ],
      "execution_count": 19,
      "outputs": [
        {
          "output_type": "stream",
          "text": [
            "Epoch 1/30\n",
            "329/329 [==============================] - 17s 6ms/step - loss: 0.9261 - accuracy: 0.7248 - val_loss: 0.2480 - val_accuracy: 0.9287\n",
            "Epoch 2/30\n",
            "329/329 [==============================] - 1s 4ms/step - loss: 0.2249 - accuracy: 0.9360 - val_loss: 0.1823 - val_accuracy: 0.9483\n",
            "Epoch 3/30\n",
            "329/329 [==============================] - 2s 5ms/step - loss: 0.1640 - accuracy: 0.9525 - val_loss: 0.1625 - val_accuracy: 0.9527\n",
            "Epoch 4/30\n",
            "329/329 [==============================] - 1s 4ms/step - loss: 0.1312 - accuracy: 0.9606 - val_loss: 0.1453 - val_accuracy: 0.9561\n",
            "Epoch 5/30\n",
            "329/329 [==============================] - 1s 4ms/step - loss: 0.1139 - accuracy: 0.9672 - val_loss: 0.1419 - val_accuracy: 0.9597\n",
            "Epoch 6/30\n",
            "329/329 [==============================] - 1s 4ms/step - loss: 0.0964 - accuracy: 0.9715 - val_loss: 0.1247 - val_accuracy: 0.9638\n",
            "Epoch 7/30\n",
            "329/329 [==============================] - 1s 4ms/step - loss: 0.0861 - accuracy: 0.9748 - val_loss: 0.1182 - val_accuracy: 0.9642\n",
            "Epoch 8/30\n",
            "329/329 [==============================] - 1s 4ms/step - loss: 0.0732 - accuracy: 0.9786 - val_loss: 0.1119 - val_accuracy: 0.9679\n",
            "Epoch 9/30\n",
            "329/329 [==============================] - 1s 4ms/step - loss: 0.0634 - accuracy: 0.9807 - val_loss: 0.1141 - val_accuracy: 0.9669\n",
            "Epoch 10/30\n",
            "329/329 [==============================] - 1s 4ms/step - loss: 0.0546 - accuracy: 0.9838 - val_loss: 0.1127 - val_accuracy: 0.9654\n",
            "Epoch 11/30\n",
            "329/329 [==============================] - 1s 4ms/step - loss: 0.0476 - accuracy: 0.9864 - val_loss: 0.1228 - val_accuracy: 0.9645\n",
            "Epoch 12/30\n",
            "329/329 [==============================] - 1s 4ms/step - loss: 0.0465 - accuracy: 0.9856 - val_loss: 0.1108 - val_accuracy: 0.9681\n",
            "Epoch 13/30\n",
            "329/329 [==============================] - 1s 4ms/step - loss: 0.0375 - accuracy: 0.9895 - val_loss: 0.1093 - val_accuracy: 0.9689\n",
            "Epoch 14/30\n",
            "329/329 [==============================] - 1s 4ms/step - loss: 0.0329 - accuracy: 0.9906 - val_loss: 0.1128 - val_accuracy: 0.9674\n",
            "Epoch 15/30\n",
            "329/329 [==============================] - 1s 4ms/step - loss: 0.0295 - accuracy: 0.9918 - val_loss: 0.1117 - val_accuracy: 0.9691\n",
            "Epoch 16/30\n",
            "329/329 [==============================] - 1s 4ms/step - loss: 0.0259 - accuracy: 0.9925 - val_loss: 0.1170 - val_accuracy: 0.9683\n",
            "Epoch 17/30\n",
            "329/329 [==============================] - 1s 4ms/step - loss: 0.0216 - accuracy: 0.9943 - val_loss: 0.1165 - val_accuracy: 0.9692\n",
            "Epoch 18/30\n",
            "329/329 [==============================] - 1s 4ms/step - loss: 0.0221 - accuracy: 0.9941 - val_loss: 0.1204 - val_accuracy: 0.9691\n",
            "Epoch 19/30\n",
            "329/329 [==============================] - 1s 4ms/step - loss: 0.0178 - accuracy: 0.9953 - val_loss: 0.1172 - val_accuracy: 0.9693\n",
            "Epoch 20/30\n",
            "329/329 [==============================] - 1s 4ms/step - loss: 0.0142 - accuracy: 0.9963 - val_loss: 0.1315 - val_accuracy: 0.9665\n",
            "Epoch 21/30\n",
            "329/329 [==============================] - 1s 4ms/step - loss: 0.0144 - accuracy: 0.9960 - val_loss: 0.1244 - val_accuracy: 0.9691\n",
            "Epoch 22/30\n",
            "329/329 [==============================] - 1s 4ms/step - loss: 0.0118 - accuracy: 0.9971 - val_loss: 0.1210 - val_accuracy: 0.9706\n",
            "Epoch 23/30\n",
            "329/329 [==============================] - 1s 4ms/step - loss: 0.0088 - accuracy: 0.9987 - val_loss: 0.1272 - val_accuracy: 0.9692\n",
            "Epoch 24/30\n",
            "329/329 [==============================] - 1s 4ms/step - loss: 0.0145 - accuracy: 0.9962 - val_loss: 0.1336 - val_accuracy: 0.9687\n",
            "Epoch 25/30\n",
            "329/329 [==============================] - 1s 4ms/step - loss: 0.0081 - accuracy: 0.9989 - val_loss: 0.1352 - val_accuracy: 0.9685\n",
            "Epoch 26/30\n",
            "329/329 [==============================] - 1s 4ms/step - loss: 0.0071 - accuracy: 0.9986 - val_loss: 0.1451 - val_accuracy: 0.9681\n",
            "Epoch 27/30\n",
            "329/329 [==============================] - 1s 4ms/step - loss: 0.0291 - accuracy: 0.9916 - val_loss: 0.1477 - val_accuracy: 0.9681\n",
            "Epoch 28/30\n",
            "329/329 [==============================] - 1s 4ms/step - loss: 0.0063 - accuracy: 0.9988 - val_loss: 0.1392 - val_accuracy: 0.9692\n",
            "Epoch 29/30\n",
            "329/329 [==============================] - 1s 4ms/step - loss: 0.0047 - accuracy: 0.9992 - val_loss: 0.1370 - val_accuracy: 0.9692\n",
            "Epoch 30/30\n",
            "329/329 [==============================] - 1s 4ms/step - loss: 0.0052 - accuracy: 0.9989 - val_loss: 0.1403 - val_accuracy: 0.9711\n"
          ],
          "name": "stdout"
        }
      ]
    },
    {
      "cell_type": "markdown",
      "metadata": {
        "id": "RhO1F6PgKQI3"
      },
      "source": [
        "학습 결과 그리기"
      ]
    },
    {
      "cell_type": "code",
      "metadata": {
        "colab": {
          "base_uri": "https://localhost:8080/",
          "height": 350
        },
        "id": "SucFYy21J3LP",
        "outputId": "e1008ed8-6262-476b-9415-41eedd4beb55"
      },
      "source": [
        "import matplotlib.pyplot as plt\n",
        "\n",
        "his_dict = history.history\n",
        "loss = his_dict['loss']\n",
        "val_loss = his_dict['val_loss'] # 검증 데이터가 있는 경우 ‘val_’ 수식어가 붙습니다.\n",
        "\n",
        "epochs = range(1, len(loss) + 1)\n",
        "fig = plt.figure(figsize = (10, 5))\n",
        "\n",
        "# 훈련 및 검증 손실 그리기\n",
        "ax1 = fig.add_subplot(1, 2, 1)\n",
        "ax1.plot(epochs, loss, color = 'blue', label = 'train_loss')\n",
        "ax1.plot(epochs, val_loss, color = 'orange', label = 'val_loss')\n",
        "ax1.set_title('train and val loss')\n",
        "ax1.set_xlabel('epochs')\n",
        "ax1.set_ylabel('loss')\n",
        "ax1.legend()\n",
        "\n",
        "acc = his_dict['accuracy']\n",
        "val_acc = his_dict['val_accuracy']\n",
        "\n",
        "# 훈련 및 검증 정확도 그리기\n",
        "ax2 = fig.add_subplot(1, 2, 2)\n",
        "ax2.plot(epochs, acc, color = 'blue', label = 'train_acc')\n",
        "ax2.plot(epochs, val_acc, color = 'orange', label = 'val_acc')\n",
        "ax2.set_title('train and val acc')\n",
        "ax2.set_xlabel('epochs')\n",
        "ax2.set_ylabel('loss')\n",
        "ax2.legend()\n",
        "\n",
        "plt.show()"
      ],
      "execution_count": 20,
      "outputs": [
        {
          "output_type": "display_data",
          "data": {
            "image/png": "[encoded data removed]",
            "text/plain": [
              "<Figure size 720x360 with 2 Axes>"
            ]
          },
          "metadata": {
            "tags": [],
            "needs_background": "light"
          }
        }
      ]
    },
    {
      "cell_type": "markdown",
      "metadata": {
        "id": "aiSeajnLK8kW"
      },
      "source": [
        "모델 평가하기"
      ]
    },
    {
      "cell_type": "code",
      "metadata": {
        "colab": {
          "base_uri": "https://localhost:8080/"
        },
        "id": "hfWYZTWMK9VQ",
        "outputId": "af9892a0-c3b6-4c2f-a664-3c0c7ffdaea3"
      },
      "source": [
        "model.evaluate(x_test, y_test)"
      ],
      "execution_count": 21,
      "outputs": [
        {
          "output_type": "stream",
          "text": [
            "313/313 [==============================] - 0s 1ms/step - loss: 0.1209 - accuracy: 0.9722\n"
          ],
          "name": "stdout"
        },
        {
          "output_type": "execute_result",
          "data": {
            "text/plain": [
              "[0.12086540460586548, 0.9721999764442444]"
            ]
          },
          "metadata": {
            "tags": []
          },
          "execution_count": 21
        }
      ]
    },
    {
      "cell_type": "markdown",
      "metadata": {
        "id": "WvOMZUHDLHy2"
      },
      "source": [
        "예측값 그려서 확인해보기"
      ]
    },
    {
      "cell_type": "code",
      "metadata": {
        "colab": {
          "base_uri": "https://localhost:8080/"
        },
        "id": "-tZrl_5ALBlQ",
        "outputId": "6dd480a5-2c02-472a-f9af-d77eee190273"
      },
      "source": [
        "import numpy as np\n",
        "np.set_printoptions(suppress=True)\n",
        "\n",
        "results = model.predict(x_test)\n",
        "print(results.shape)\n",
        "np.set_printoptions(precision=7) # numpy 소수점 제한\n",
        "print(f'각 클래스에 속할 확률 : \\n{results[0]}')"
      ],
      "execution_count": 22,
      "outputs": [
        {
          "output_type": "stream",
          "text": [
            "(10000, 10)\n",
            "각 클래스에 속할 확률 : \n",
            "[0.        0.        0.        0.0000077 0.        0.0000001 0.\n",
            " 0.9999924 0.        0.       ]\n"
          ],
          "name": "stdout"
        }
      ]
    },
    {
      "cell_type": "code",
      "metadata": {
        "colab": {
          "base_uri": "https://localhost:8080/",
          "height": 281
        },
        "id": "7rNYt3P8LVSP",
        "outputId": "d163c62d-772a-4ac6-d04e-b5e277bc3969"
      },
      "source": [
        "import matplotlib.pyplot as plt\n",
        "\n",
        "arg_results = np.argmax(results, axis = -1) # 가장 큰 값의 인덱스를 가져옵니다.\n",
        "plt.imshow(x_test[0].reshape(28, 28))\n",
        "plt.title('Predicted value of the first image : ' + str(arg_results[0]))\n",
        "plt.show()"
      ],
      "execution_count": 23,
      "outputs": [
        {
          "output_type": "display_data",
          "data": {
            "image/png": "[encoded data removed]",
            "text/plain": [
              "<Figure size 432x288 with 1 Axes>"
            ]
          },
          "metadata": {
            "tags": [],
            "needs_background": "light"
          }
        }
      ]
    },
    {
      "cell_type": "markdown",
      "metadata": {
        "id": "7vaPmPLjLup6"
      },
      "source": [
        "모델 평가 방법1-혼동 행렬"
      ]
    },
    {
      "cell_type": "code",
      "metadata": {
        "colab": {
          "base_uri": "https://localhost:8080/",
          "height": 442
        },
        "id": "OPmxNufoLZCt",
        "outputId": "8f553a3a-a962-405c-f37b-ff110373cf31"
      },
      "source": [
        "# sklearn.metrics 모듈은 여러가지 평가 지표에 관한 기능을 제공합니다.\n",
        "from sklearn.metrics import classification_report, confusion_matrix\n",
        "import matplotlib.pyplot as plt\n",
        "import seaborn as sns\n",
        "\n",
        "# 혼동 행렬을 만듭니다.\n",
        "plt.figure(figsize = (7, 7))\n",
        "cm = confusion_matrix(np.argmax(y_test, axis = -1), np.argmax(results, axis = -1))\n",
        "sns.heatmap(cm, annot = True, fmt = 'd',cmap = 'Blues')\n",
        "plt.xlabel('predicted label')\n",
        "plt.ylabel('true label')\n",
        "plt.show()"
      ],
      "execution_count": 24,
      "outputs": [
        {
          "output_type": "display_data",
          "data": {
            "image/png": "[encoded data removed]",
            "text/plain": [
              "<Figure size 504x504 with 2 Axes>"
            ]
          },
          "metadata": {
            "tags": [],
            "needs_background": "light"
          }
        }
      ]
    },
    {
      "cell_type": "markdown",
      "metadata": {
        "id": "0NV3IaY5MY9v"
      },
      "source": [
        "모델 평가 방법 2 - 분류 보고서"
      ]
    },
    {
      "cell_type": "code",
      "metadata": {
        "colab": {
          "base_uri": "https://localhost:8080/"
        },
        "id": "Qu_5l8GlL2_O",
        "outputId": "d9f1939b-ddd9-4f0d-a0c1-5893179b0748"
      },
      "source": [
        "print('\\n', classification_report(np.argmax(y_test, axis = -1), np.argmax(results, axis = -1)))"
      ],
      "execution_count": 25,
      "outputs": [
        {
          "output_type": "stream",
          "text": [
            "\n",
            "               precision    recall  f1-score   support\n",
            "\n",
            "           0       0.97      0.99      0.98       980\n",
            "           1       0.99      0.98      0.99      1135\n",
            "           2       0.97      0.97      0.97      1032\n",
            "           3       0.96      0.96      0.96      1010\n",
            "           4       0.97      0.98      0.97       982\n",
            "           5       0.96      0.97      0.97       892\n",
            "           6       0.98      0.97      0.98       958\n",
            "           7       0.98      0.97      0.97      1028\n",
            "           8       0.96      0.97      0.97       974\n",
            "           9       0.97      0.96      0.96      1009\n",
            "\n",
            "    accuracy                           0.97     10000\n",
            "   macro avg       0.97      0.97      0.97     10000\n",
            "weighted avg       0.97      0.97      0.97     10000\n",
            "\n"
          ],
          "name": "stdout"
        }
      ]
    }
  ]
}